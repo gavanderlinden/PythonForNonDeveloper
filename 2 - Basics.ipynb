{
 "cells": [
  {
   "cell_type": "code",
   "execution_count": null,
   "metadata": {
    "collapsed": true
   },
   "outputs": [],
   "source": [
    "from IPython.display import Image  # ignore this"
   ]
  },
  {
   "cell_type": "code",
   "execution_count": null,
   "metadata": {
    "collapsed": true
   },
   "outputs": [],
   "source": [
    "# Python is dynamically typed ( variables can be anything and do not have to be declared in advance )\n",
    "# simply said: you write a variable name and a value, the type is automatically assigned\n",
    "name = \"Tony\"\n",
    "age = 31\n",
    "last_3_meals = [\"wraps\", \"sweet potato mash\", \"spaghetti bolognese\"]"
   ]
  },
  {
   "cell_type": "code",
   "execution_count": null,
   "metadata": {
    "collapsed": false
   },
   "outputs": [],
   "source": [
    "type(name), type(age), type(last_3_meals)"
   ]
  },
  {
   "cell_type": "code",
   "execution_count": null,
   "metadata": {
    "collapsed": false
   },
   "outputs": [],
   "source": [
    "# types work differently\n",
    "print(name + name)\n",
    "print(age + age)\n",
    "print(last_3_meals + last_3_meals)\n",
    "print(name + age)  # this does not work"
   ]
  },
  {
   "cell_type": "code",
   "execution_count": null,
   "metadata": {
    "collapsed": false
   },
   "outputs": [],
   "source": [
    "# some types can be easily switched\n",
    "print(str(age) + str(age))\n",
    "print(str(last_3_meals) + str(last_3_meals))  # maybe not what you would expect"
   ]
  },
  {
   "cell_type": "code",
   "execution_count": null,
   "metadata": {
    "collapsed": false
   },
   "outputs": [],
   "source": [
    "# or not at all\n",
    "print(int(name) + int(name))"
   ]
  },
  {
   "cell_type": "markdown",
   "metadata": {},
   "source": [
    "# Built-in Types\n",
    "Built-in types are the basic building blocks for your code"
   ]
  },
  {
   "cell_type": "code",
   "execution_count": null,
   "metadata": {
    "collapsed": false,
    "scrolled": true
   },
   "outputs": [],
   "source": [
    "# Boolean\n",
    "print(\"\\n__Boolean__\\n\")\n",
    "print(True, type(True))\n",
    "print(False, type(False))\n",
    "print(None, type(None))\n",
    "\n",
    "# Numeric\n",
    "print(\"\\n__Numeric__\\n\")\n",
    "print(32, type(32))\n",
    "print(20.4, type(20.4))\n",
    "print(10e6, type(10e6))\n",
    "\n",
    "# Sequence Types\n",
    "print(\"\\n__Sequence__\\n\")\n",
    "print([1, 2], type([1, 2]))\n",
    "print((1, 2), type((1, 2)))\n",
    "print(range(10), type(range(10)))\n",
    "print(\"hello\", type(\"hello\"))  # string is a text sequence type\n",
    "\n",
    "# Set Types\n",
    "print(\"\\n__Set__\\n\")\n",
    "print({1, 2}, type({1, 2}))\n",
    "\n",
    "# Mapping Types\n",
    "print(\"\\n__Mapping__\\n\")\n",
    "print({\"a\": 1, \"b\": 2}, type({\"a\": 1, \"b\": 2}))\n",
    "\n",
    "# Null & Type\n",
    "print(type, type(type))\n",
    "print(None, type(None))\n",
    "\n",
    "# Binary Sequence Types\n",
    "print(\"\\n__Binary__\\n\")\n",
    "print(b\"test\", type(b\"test\"))  # let's ignore this for now"
   ]
  },
  {
   "cell_type": "markdown",
   "metadata": {},
   "source": [
    "# Operations on types\n",
    "Each type allows you to do operations on them:"
   ]
  },
  {
   "cell_type": "markdown",
   "metadata": {},
   "source": [
    "#### Comparison\n",
    "\n",
    "<table align=\"left\" border=\"1\">\n",
    "<colgroup>\n",
    "<col width=\"50%\">\n",
    "<col width=\"50%\">\n",
    "<col width=\"11%\">\n",
    "<col width=\"24%\">\n",
    "</colgroup>\n",
    "<thead valign=\"bottom\">\n",
    "<tr class=\"row-odd\"><th class=\"head\">Operation</th>\n",
    "<th class=\"head\">Meaning</th>\n",
    "</tr>\n",
    "</thead>\n",
    "<tbody valign=\"top\">\n",
    "<tr class=\"row-even\"><td><code><span class=\"pre\">&lt;</span></code></td>\n",
    "<td>strictly less than</td>\n",
    "</tr>\n",
    "<tr class=\"row-odd\"><td><code><span class=\"pre\">&lt;=</span></code></td>\n",
    "<td>less than or equal</td>\n",
    "</tr>\n",
    "<tr class=\"row-even\"><td><code><span class=\"pre\">&gt;</span></code></td>\n",
    "<td>strictly greater than</td>\n",
    "</tr>\n",
    "<tr class=\"row-odd\"><td><code><span class=\"pre\">&gt;=</span></code></td>\n",
    "<td>greater than or equal</td>\n",
    "</tr>\n",
    "<tr class=\"row-even\"><td><code><span class=\"pre\">==</span></code></td>\n",
    "<td>equal</td>\n",
    "</tr>\n",
    "<tr class=\"row-odd\"><td><code><span class=\"pre\">!=</span></code></td>\n",
    "<td>not equal</td>\n",
    "</tr>\n",
    "<tr class=\"row-even\"><td><code><span class=\"pre\">is</span></code></td>\n",
    "<td>object identity</td>\n",
    "</tr>\n",
    "<tr class=\"row-odd\"><td><code><span class=\"pre\">is</span> <span class=\"pre\">not</span></code></td>\n",
    "<td>negated object identity</td>\n",
    "</tr>\n",
    "</tbody>\n",
    "</table>"
   ]
  },
  {
   "cell_type": "code",
   "execution_count": null,
   "metadata": {
    "collapsed": false
   },
   "outputs": [],
   "source": [
    "# Some numerical comparisons\n",
    "# let's ignore 'is' and 'is not' for now\n",
    "print(\"0 < 1:\", 0 < 1)\n",
    "print(\"0 > 1:\", 0 > 1)\n",
    "print(\"1 <= 1:\", 1 <= 1)\n",
    "print(\"0 <= 1:\", 0 <= 1)\n",
    "print(\"1 <= 0:\", 1 <= 0)\n",
    "print(\"1 <= 0:\", 1 <= 0)\n",
    "print(\"1 >= 0:\", 1 >= 0)\n",
    "print(\"1 == 1:\", 1 == 1)\n",
    "print(\"1 == 0:\", 1 == 0)\n",
    "print(\"1 != 0:\", 1 != 0)"
   ]
  },
  {
   "cell_type": "code",
   "execution_count": null,
   "metadata": {
    "collapsed": false
   },
   "outputs": [],
   "source": [
    "# Comparison also works on other types\n",
    "print('\"Hello\" == \"world!\":', \"Hello\" == \"world!\")\n",
    "print(\"[1, 2] == [1, 2]:\", [1, 2] == [1, 2])\n",
    "print(\"[1, 2, 3] < [4, 5, 6]:\", [1, 2, 3] < [4, 5, 6])  # all integers in the first list are smaller\n",
    "print(\"[1, 2, 3] < [1, 2, 2]:\", [1, 2, 3] < [1, 2, 2])  # the third variable in the second list is bigger\n",
    "print('\"1\" == 1:', \"1\" == 1)  # a string is not an integer\n",
    "print('int(\"1\") == 1:', int(\"1\") == 1)  # however if we transform it to an integer they are equal\n",
    "print(\"(1, 2) == [1, 2]:\", (1, 2) == [1, 2])  # a tuple is not a list"
   ]
  },
  {
   "cell_type": "markdown",
   "metadata": {},
   "source": [
    "#### Numeric operations\n",
    "\n",
    "<table align=\"left\" border=\"1\" class=\"docutils\">\n",
    "<colgroup>\n",
    "<col width=\"25%\">\n",
    "<col width=\"40%\">\n",
    "<col width=\"11%\">\n",
    "<col width=\"24%\">\n",
    "</colgroup>\n",
    "<thead valign=\"bottom\">\n",
    "<tr class=\"row-odd\"><th class=\"head\">Operation</th>\n",
    "<th class=\"head\">Result</th>\n",
    "</tr>\n",
    "</thead>\n",
    "<tbody valign=\"top\">\n",
    "<tr class=\"row-even\"><td><code><span class=\"pre\">x</span> <span class=\"pre\">+</span> <span class=\"pre\">y</span></code></td>\n",
    "<td>sum of <em>x</em> and <em>y</em></td>\n",
    "\n",
    "\n",
    "</tr>\n",
    "<tr class=\"row-odd\"><td><code><span class=\"pre\">x</span> <span class=\"pre\">-</span> <span class=\"pre\">y</span></code></td>\n",
    "<td>difference of <em>x</em> and <em>y</em></td>\n",
    "\n",
    "\n",
    "</tr>\n",
    "<tr class=\"row-even\"><td><code><span class=\"pre\">x</span> <span class=\"pre\">\\*</span> <span class=\"pre\">y</span></code></td>\n",
    "<td>product of <em>x</em> and <em>y</em></td>\n",
    "\n",
    "\n",
    "</tr>\n",
    "<tr class=\"row-odd\"><td><code><span class=\"pre\">x</span> <span class=\"pre\">/</span> <span class=\"pre\">y</span></code></td>\n",
    "<td>quotient of <em>x</em> and <em>y</em></td>\n",
    "\n",
    "\n",
    "</tr>\n",
    "<tr class=\"row-even\"><td><code><span class=\"pre\">x</span> <span class=\"pre\">//</span> <span class=\"pre\">y</span></code></td>\n",
    "<td>floored quotient of <em>x</em> and\n",
    "<em>y</em></td>\n",
    "\n",
    "\n",
    "</tr>\n",
    "<tr class=\"row-odd\"><td><code><span class=\"pre\">x</span> <span class=\"pre\">%</span> <span class=\"pre\">y</span></code></td>\n",
    "<td>remainder of <span class=\"pre\">x</span><code><span class=\"pre\">/</span> <span class=\"pre\">y</span></code></td>\n",
    "\n",
    "\n",
    "</tr>\n",
    "<tr class=\"row-even\"><td><code><span class=\"pre\">-x</span></code></td>\n",
    "<td><em>x</em> negated</td>\n",
    "\n",
    "\n",
    "</tr>\n",
    "<tr class=\"row-odd\"><td><code><span class=\"pre\">+x</span></code></td>\n",
    "<td><em>x</em> unchanged</td>\n",
    "\n",
    "\n",
    "</tr>\n",
    "<tr class=\"row-even\"><td><code><span class=\"pre\">abs(x)</span></code></td>\n",
    "<td>absolute value or magnitude of\n",
    "<em>x</em></td>\n",
    "\n",
    "\n",
    "</tr>\n",
    "<tr class=\"row-odd\"><td><code><span class=\"pre\">int(x)</span></code></td>\n",
    "<td><em>x</em> converted to integer</td>\n",
    "\n",
    "\n",
    "</tr>\n",
    "<tr class=\"row-even\"><td><code><span class=\"pre\">float(x)</span></code></td>\n",
    "<td><em>x</em> converted to floating point</td>\n",
    "\n",
    "\n",
    "</tr>\n",
    "<tr class=\"row-odd\"><td><code><span class=\"pre\">complex(re,</span> <span class=\"pre\">im)</span></code></td>\n",
    "<td>a complex number with real part\n",
    "<em>re</em>, imaginary part <em>im</em>.\n",
    "<em>im</em> defaults to zero.</td>\n",
    "\n",
    "\n",
    "</tr>\n",
    "<tr class=\"row-even\"><td><code><span class=\"pre\">pow(x,</span> <span class=\"pre\">y)</span></code></td>\n",
    "<td><em>x</em> to the power <em>y</em></td>\n",
    "\n",
    "\n",
    "</tr>\n",
    "<tr class=\"row-odd\"><td><code><span class=\"pre\">x</span> <span class=\"pre\">**</span> <span class=\"pre\">y</span></code></td>\n",
    "<td><em>x</em> to the power <em>y</em></td>\n",
    "\n",
    "\n",
    "</tr>\n",
    "</tbody>\n",
    "</table>"
   ]
  },
  {
   "cell_type": "code",
   "execution_count": null,
   "metadata": {
    "collapsed": false
   },
   "outputs": [],
   "source": [
    "# Some numeric operations\n",
    "print(\"1 + 1:\", 1 + 1)\n",
    "print(\"1 - 1:\", 1 - 1)\n",
    "print(\"2 * 2:\", 2 * 2)\n",
    "print(\"2 / 2:\", 2 / 2)  # division ends up with float\n",
    "print(\"5 // 2:\", 5 // 2)  # division rounded down to integer\n",
    "print(\"5 % 2:\", 5 % 2)  # the remainder of 5 / 2\n",
    "print(\"2 ** 4:\", 2 ** 4)  # 2 x 2 x 2 x 2\n",
    "print(\"abs(-5):\", abs(-5))  # absolute value"
   ]
  },
  {
   "cell_type": "code",
   "execution_count": null,
   "metadata": {
    "collapsed": false
   },
   "outputs": [],
   "source": [
    "# Addition can also be done on other types\n",
    "print('\"Hello\" + \"world!\":', \"Hello\" + \"world!\")\n",
    "print(\"[1, 2] + [3, 4]:\", [1, 2] + [3, 4])"
   ]
  },
  {
   "cell_type": "markdown",
   "metadata": {},
   "source": [
    "#### String operations\n",
    "\n",
    "Strings might be the most commonly used type and mainly you use their methods. A method is pre-defined and can be used by calling it like this: str.method()"
   ]
  },
  {
   "cell_type": "code",
   "execution_count": null,
   "metadata": {
    "collapsed": false
   },
   "outputs": [],
   "source": [
    "print(\"hello\".capitalize())\n",
    "print(\"hello\".count(\"l\"))\n",
    "print(\"hello\".find(\"ello\"))\n",
    "print(\"hello\".replace(\"h\", \"y\"))\n",
    "print(\"this is a sentence\".split(\" \"))\n",
    "print(\"(hello!)\".strip(\"!()\"))\n",
    "print(\"1\".zfill(2))"
   ]
  },
  {
   "cell_type": "markdown",
   "metadata": {},
   "source": [
    "# Control structures\n",
    "Control structures are an important way to bring logic into your code. The two most important ones are 'if else' and 'loops'.\n",
    "\n",
    "#### Decision making\n",
    "\n",
    "![alt text](decision_making.jpg \"Title\")\n",
    "\n",
    "An important concept in programming is decision making. This works like this:\n",
    "- you check for a certain condition\n",
    "- do something if that condition is True\n",
    "- do something if else another condition is True (optional)\n",
    "- else do something else (optional)"
   ]
  },
  {
   "cell_type": "code",
   "execution_count": null,
   "metadata": {
    "collapsed": false
   },
   "outputs": [],
   "source": [
    "name = \"Tony\"\n",
    "if name == \"Tony\":\n",
    "    print(\"Hello\", name)"
   ]
  },
  {
   "cell_type": "code",
   "execution_count": null,
   "metadata": {
    "collapsed": false
   },
   "outputs": [],
   "source": [
    "name = \"Paul\"\n",
    "if name == \"Tony\":\n",
    "    print(\"Hello\", name)\n",
    "else:\n",
    "    print(name, \"you are not Tony\")"
   ]
  },
  {
   "cell_type": "code",
   "execution_count": null,
   "metadata": {
    "collapsed": false
   },
   "outputs": [],
   "source": [
    "name = \"Joey\"\n",
    "if name == \"Tony\":\n",
    "    print(\"Hello\", name)\n",
    "elif name == \"Paul\":\n",
    "    print(\"Hello\", name)\n",
    "else:\n",
    "    print(name, \"you are not Tony or Paul\")"
   ]
  },
  {
   "cell_type": "markdown",
   "metadata": {},
   "source": [
    "#### Loops\n",
    "\n",
    "![alt text](loop_architecture.jpg \"Title\")\n",
    "\n",
    "Simply said loops execute whatever is in it 1 or more times. In Python there are two types of loops: 'for loop' and 'while loop'.\n",
    "\n",
    "- A 'for loop' uses a sequence to determine how often it has to execute\n",
    "- A 'while loop' executes as long as a certain condition is True\n",
    "\n",
    "The danger with 'while loops' is that they can go forever (which is mostly not what you want)"
   ]
  },
  {
   "cell_type": "code",
   "execution_count": null,
   "metadata": {
    "collapsed": false
   },
   "outputs": [],
   "source": [
    "names = [\"Tony\", \"Paul\", \"Joey\"]\n",
    "for name in names:\n",
    "    if name == \"Tony\":\n",
    "        print(\"Hello\", name)\n",
    "    elif name == \"Paul\":\n",
    "        print(\"Hello\", name)\n",
    "    else:\n",
    "        print(name, \"you are not Tony or Paul\")"
   ]
  },
  {
   "cell_type": "markdown",
   "metadata": {},
   "source": [
    "In this case the loop executes 3 times because we have 3 names in our list (the sequence). For every loop we make, we get the current value from the sequence as 'name'."
   ]
  },
  {
   "cell_type": "code",
   "execution_count": null,
   "metadata": {
    "collapsed": false
   },
   "outputs": [],
   "source": [
    "count = 0\n",
    "while count < 3:\n",
    "    print(count)\n",
    "    count += 1"
   ]
  },
  {
   "cell_type": "markdown",
   "metadata": {},
   "source": [
    "For the time being let's not go deeper in the use of while loops"
   ]
  },
  {
   "cell_type": "markdown",
   "metadata": {},
   "source": [
    "# Code re-usage\n",
    "\n",
    "You can achieve quite a lot by using a lot of if-else-statements and loops, self-thaught programmers or non-developers might tend to do this more. However, you really shouldn't. The last three basic concepts we need to know before we can start doing something useful are:\n",
    "- functions\n",
    "- classes\n",
    "- modules\n",
    "\n",
    "#### Functions\n",
    "\n",
    "A function is a code block that you can re-use. For instance what we did above, checking if a name is Tony or Paul can also be done with a function. You can declare a function with 'def' + 'function name' + '():'. You can pass so called arguments (variables) to the function. To this put them between the brackets."
   ]
  },
  {
   "cell_type": "code",
   "execution_count": null,
   "metadata": {
    "collapsed": true
   },
   "outputs": [],
   "source": [
    "def test_name(name):\n",
    "    if name == \"Tony\":\n",
    "        print(\"Hello\", name)\n",
    "    elif name == \"Paul\":\n",
    "        print(\"Hello\", name)\n",
    "    else:\n",
    "        print(name, \"you are not Tony or Paul\")"
   ]
  },
  {
   "cell_type": "markdown",
   "metadata": {},
   "source": [
    "We now have a function which tests if a name is Tony or Paul. We can use this function like this:"
   ]
  },
  {
   "cell_type": "code",
   "execution_count": null,
   "metadata": {
    "collapsed": false
   },
   "outputs": [],
   "source": [
    "names = [\"Tony\", \"Paul\", \"Joey\"]\n",
    "for name in names:\n",
    "    test_name(name)"
   ]
  },
  {
   "cell_type": "markdown",
   "metadata": {},
   "source": [
    "Previously we printed some values to display types, we can really simplify this with a function"
   ]
  },
  {
   "cell_type": "code",
   "execution_count": null,
   "metadata": {
    "collapsed": true
   },
   "outputs": [],
   "source": [
    "def print_type(value):\n",
    "    print(value, type(value))"
   ]
  },
  {
   "cell_type": "code",
   "execution_count": null,
   "metadata": {
    "collapsed": true
   },
   "outputs": [],
   "source": [
    "values = [\n",
    "    True, False, 32, 20.4, 10e6, [1, 2], (1, 2), range(10), \n",
    "    \"hello\", {1, 2}, {\"a\": 1, \"b\": 2}, type, None, b\"test\"\n",
    "]"
   ]
  },
  {
   "cell_type": "code",
   "execution_count": null,
   "metadata": {
    "collapsed": false
   },
   "outputs": [],
   "source": [
    "for value in values:\n",
    "    print_type(value)"
   ]
  },
  {
   "cell_type": "markdown",
   "metadata": {},
   "source": [
    "Simply said: in programming you don't want to repeat yourself, functions allow you to prevent that\n",
    "\n",
    "#### Classes\n",
    "\n",
    "Ok time to take the red pill.\n",
    "\n",
    "![alt text](red_and_blue_pill.jpg \"Title\")\n",
    "\n",
    "Ever heard of Object Oriented Programming? Well in Python everything is an object.\n",
    "\n",
    "![alt text](mind_blown.gif \"Title\")"
   ]
  },
  {
   "cell_type": "markdown",
   "metadata": {},
   "source": [
    "A class is the definition of an object and every instance of that class is an object. Which means everything you use in Python is defined as a class.\n",
    "\n",
    "- 1 is an object (also called instance) of class int\n",
    "- \"test\" is an object of class str\n",
    "\n",
    "Without getting to theoretical at this point let's look at how we can define a class and use it. You can declare a class with 'class' + 'class name' + '():'. You can pass so called arguments (variables) to the class. To this you need to define an \\__init__ function."
   ]
  },
  {
   "cell_type": "code",
   "execution_count": null,
   "metadata": {
    "collapsed": false
   },
   "outputs": [],
   "source": [
    "class Person(object):\n",
    "    \n",
    "    def __init__(self, name):\n",
    "        self.name = name\n",
    "    \n",
    "    def is_tony_or_paul(self):\n",
    "        if self.name == \"Tony\":\n",
    "            print(\"Hello\", self.name)\n",
    "        elif name == \"Paul\":\n",
    "            print(\"Hello\", self.name)\n",
    "        else:\n",
    "            print(\"I am not Tony or Paul, but:\", self.name)"
   ]
  },
  {
   "cell_type": "code",
   "execution_count": null,
   "metadata": {
    "collapsed": false
   },
   "outputs": [],
   "source": [
    "tony = Person(\"Tony\")  # create an instance of class Person\n",
    "tony.is_tony_or_paul()"
   ]
  },
  {
   "cell_type": "markdown",
   "metadata": {},
   "source": [
    "As we see above a class is a collection of functions and state. We define the functions (methods) like normal functions, however they always have an argument called self. The 'self' allows you to store 'state'. In this case the state of Person contains the name. We could change the name and get a different result from the same function:"
   ]
  },
  {
   "cell_type": "code",
   "execution_count": null,
   "metadata": {
    "collapsed": false
   },
   "outputs": [],
   "source": [
    "tony.name = \"Joey\"\n",
    "tony.is_tony_or_paul()"
   ]
  },
  {
   "cell_type": "markdown",
   "metadata": {},
   "source": [
    "As you might have notice, using the method we defined in our Person class is similar to using methods with strings.\n",
    "\n",
    "```python\n",
    "\"hello\".count(\"l\")\n",
    "```\n",
    "\n",
    "A simplification of the str class could look like this:\n",
    "\n",
    "```python\n",
    "class Str(object):\n",
    "\n",
    "    def __init__(self, str):\n",
    "        self.str = str\n",
    "    \n",
    "    def count(self, search_letter):\n",
    "        cnt = 0\n",
    "        for letter in self.str:\n",
    "            if letter == search_letter:\n",
    "                cnt += 1\n",
    "        \n",
    "        return cnt\n",
    "```"
   ]
  },
  {
   "cell_type": "code",
   "execution_count": null,
   "metadata": {
    "collapsed": true
   },
   "outputs": [],
   "source": [
    "class MyString(object):\n",
    "\n",
    "    def __init__(self, text):\n",
    "        self.text = text\n",
    "    \n",
    "    def count(self, search_letter):\n",
    "        cnt = 0\n",
    "        for letter in self.text:\n",
    "            if letter == search_letter:\n",
    "                cnt += 1\n",
    "        \n",
    "        return cnt"
   ]
  },
  {
   "cell_type": "raw",
   "metadata": {},
   "source": [
    "hello = MyString(\"hello\")\n",
    "hello.count(\"l\")"
   ]
  },
  {
   "cell_type": "code",
   "execution_count": null,
   "metadata": {
    "collapsed": true
   },
   "outputs": [],
   "source": []
  }
 ],
 "metadata": {
  "kernelspec": {
   "display_name": "Python 3",
   "language": "python",
   "name": "python3"
  },
  "language_info": {
   "codemirror_mode": {
    "name": "ipython",
    "version": 3
   },
   "file_extension": ".py",
   "mimetype": "text/x-python",
   "name": "python",
   "nbconvert_exporter": "python",
   "pygments_lexer": "ipython3",
   "version": "3.6.0"
  }
 },
 "nbformat": 4,
 "nbformat_minor": 2
}
