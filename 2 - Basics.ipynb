{
 "cells": [
  {
   "cell_type": "code",
   "execution_count": null,
   "metadata": {
    "collapsed": true
   },
   "outputs": [],
   "source": [
    "from IPython.display import Image  # ignore this"
   ]
  },
  {
   "cell_type": "code",
   "execution_count": null,
   "metadata": {
    "collapsed": true
   },
   "outputs": [],
   "source": [
    "# Python is dynamically typed ( variables can be anything and do not have to be declared in advance )\n",
    "# simply said: you write a variable name and a value, the type is automatically assigned\n",
    "name = \"Tony\"\n",
    "age = 31\n",
    "last_3_meals = [\"wraps\", \"sweet potato mash\", \"spaghetti bolognese\"]"
   ]
  },
  {
   "cell_type": "code",
   "execution_count": null,
   "metadata": {
    "collapsed": false
   },
   "outputs": [],
   "source": [
    "type(name), type(age), type(last_3_meals)"
   ]
  },
  {
   "cell_type": "code",
   "execution_count": null,
   "metadata": {
    "collapsed": false
   },
   "outputs": [],
   "source": [
    "# types work differently\n",
    "print(name + name)\n",
    "print(age + age)\n",
    "print(last_3_meals + last_3_meals)\n",
    "print(name + age)  # this does not work"
   ]
  },
  {
   "cell_type": "code",
   "execution_count": null,
   "metadata": {
    "collapsed": false
   },
   "outputs": [],
   "source": [
    "# some types can be easily switched\n",
    "print(str(age) + str(age))\n",
    "print(str(last_3_meals) + str(last_3_meals))  # maybe not what you would expect"
   ]
  },
  {
   "cell_type": "code",
   "execution_count": null,
   "metadata": {
    "collapsed": false
   },
   "outputs": [],
   "source": [
    "# or not at all\n",
    "print(int(name) + int(name))"
   ]
  },
  {
   "cell_type": "markdown",
   "metadata": {},
   "source": [
    "# Built-in Types\n",
    "Built-in types are the basic building blocks for your code"
   ]
  },
  {
   "cell_type": "code",
   "execution_count": null,
   "metadata": {
    "collapsed": false,
    "scrolled": true
   },
   "outputs": [],
   "source": [
    "# Boolean\n",
    "print(\"\\n__Boolean__\\n\")\n",
    "print(True, type(True))\n",
    "print(False, type(False))\n",
    "print(None, type(None))\n",
    "\n",
    "# Numeric\n",
    "print(\"\\n__Numeric__\\n\")\n",
    "print(32, type(32))\n",
    "print(20.4, type(20.4))\n",
    "print(10e6, type(10e6))\n",
    "\n",
    "# Sequence Types\n",
    "print(\"\\n__Sequence__\\n\")\n",
    "print([1, 2], type([1, 2]))\n",
    "print((1, 2), type((1, 2)))\n",
    "print(range(10), type(range(10)))\n",
    "print(\"hello\", type(\"hello\"))  # string is a text sequence type\n",
    "\n",
    "# Set Types\n",
    "print(\"\\n__Set__\\n\")\n",
    "print({1, 2}, type({1, 2}))\n",
    "\n",
    "# Mapping Types\n",
    "print(\"\\n__Mapping__\\n\")\n",
    "print({\"a\": 1, \"b\": 2}, type({\"a\": 1, \"b\": 2}))\n",
    "\n",
    "# Null & Type\n",
    "print(type, type(type))\n",
    "print(None, type(None))\n",
    "\n",
    "# Binary Sequence Types\n",
    "print(\"\\n__Binary__\\n\")\n",
    "print(b\"test\", type(b\"test\"))  # let's ignore this for now"
   ]
  },
  {
   "cell_type": "markdown",
   "metadata": {},
   "source": [
    "# Operations on types\n",
    "Each type allows you to do operations on them:"
   ]
  },
  {
   "cell_type": "markdown",
   "metadata": {},
   "source": [
    "#### Comparison\n",
    "\n",
    "<table align=\"left\" border=\"1\">\n",
    "<colgroup>\n",
    "<col width=\"50%\">\n",
    "<col width=\"50%\">\n",
    "<col width=\"11%\">\n",
    "<col width=\"24%\">\n",
    "</colgroup>\n",
    "<thead valign=\"bottom\">\n",
    "<tr class=\"row-odd\"><th class=\"head\">Operation</th>\n",
    "<th class=\"head\">Meaning</th>\n",
    "</tr>\n",
    "</thead>\n",
    "<tbody valign=\"top\">\n",
    "<tr class=\"row-even\"><td><code><span class=\"pre\">&lt;</span></code></td>\n",
    "<td>strictly less than</td>\n",
    "</tr>\n",
    "<tr class=\"row-odd\"><td><code><span class=\"pre\">&lt;=</span></code></td>\n",
    "<td>less than or equal</td>\n",
    "</tr>\n",
    "<tr class=\"row-even\"><td><code><span class=\"pre\">&gt;</span></code></td>\n",
    "<td>strictly greater than</td>\n",
    "</tr>\n",
    "<tr class=\"row-odd\"><td><code><span class=\"pre\">&gt;=</span></code></td>\n",
    "<td>greater than or equal</td>\n",
    "</tr>\n",
    "<tr class=\"row-even\"><td><code><span class=\"pre\">==</span></code></td>\n",
    "<td>equal</td>\n",
    "</tr>\n",
    "<tr class=\"row-odd\"><td><code><span class=\"pre\">!=</span></code></td>\n",
    "<td>not equal</td>\n",
    "</tr>\n",
    "<tr class=\"row-even\"><td><code><span class=\"pre\">is</span></code></td>\n",
    "<td>object identity</td>\n",
    "</tr>\n",
    "<tr class=\"row-odd\"><td><code><span class=\"pre\">is</span> <span class=\"pre\">not</span></code></td>\n",
    "<td>negated object identity</td>\n",
    "</tr>\n",
    "</tbody>\n",
    "</table>"
   ]
  },
  {
   "cell_type": "code",
   "execution_count": null,
   "metadata": {
    "collapsed": false
   },
   "outputs": [],
   "source": [
    "# Some numerical comparisons\n",
    "# let's ignore 'is' and 'is not' for now\n",
    "print(\"0 < 1:\", 0 < 1)\n",
    "print(\"0 > 1:\", 0 > 1)\n",
    "print(\"1 <= 1:\", 1 <= 1)\n",
    "print(\"0 <= 1:\", 0 <= 1)\n",
    "print(\"1 <= 0:\", 1 <= 0)\n",
    "print(\"1 <= 0:\", 1 <= 0)\n",
    "print(\"1 >= 0:\", 1 >= 0)\n",
    "print(\"1 == 1:\", 1 == 1)\n",
    "print(\"1 == 0:\", 1 == 0)\n",
    "print(\"1 != 0:\", 1 != 0)"
   ]
  },
  {
   "cell_type": "code",
   "execution_count": null,
   "metadata": {
    "collapsed": false
   },
   "outputs": [],
   "source": [
    "# Comparison also works on other types\n",
    "print('\"Hello\" == \"world!\":', \"Hello\" == \"world!\")\n",
    "print(\"[1, 2] == [1, 2]:\", [1, 2] == [1, 2])\n",
    "print(\"[1, 2, 3] < [4, 5, 6]:\", [1, 2, 3] < [4, 5, 6])  # all integers in the first list are smaller\n",
    "print(\"[1, 2, 3] < [1, 2, 2]:\", [1, 2, 3] < [1, 2, 2])  # the third variable in the second list is bigger\n",
    "print('\"1\" == 1:', \"1\" == 1)  # a string is not an integer\n",
    "print('int(\"1\") == 1:', int(\"1\") == 1)  # however if we transform it to an integer they are equal\n",
    "print(\"(1, 2) == [1, 2]:\", (1, 2) == [1, 2])  # a tuple is not a list"
   ]
  },
  {
   "cell_type": "markdown",
   "metadata": {},
   "source": [
    "#### Numeric operations\n",
    "\n",
    "<table align=\"left\" border=\"1\" class=\"docutils\">\n",
    "<colgroup>\n",
    "<col width=\"25%\">\n",
    "<col width=\"40%\">\n",
    "<col width=\"11%\">\n",
    "<col width=\"24%\">\n",
    "</colgroup>\n",
    "<thead valign=\"bottom\">\n",
    "<tr class=\"row-odd\"><th class=\"head\">Operation</th>\n",
    "<th class=\"head\">Result</th>\n",
    "</tr>\n",
    "</thead>\n",
    "<tbody valign=\"top\">\n",
    "<tr class=\"row-even\"><td><code><span class=\"pre\">x</span> <span class=\"pre\">+</span> <span class=\"pre\">y</span></code></td>\n",
    "<td>sum of <em>x</em> and <em>y</em></td>\n",
    "\n",
    "\n",
    "</tr>\n",
    "<tr class=\"row-odd\"><td><code><span class=\"pre\">x</span> <span class=\"pre\">-</span> <span class=\"pre\">y</span></code></td>\n",
    "<td>difference of <em>x</em> and <em>y</em></td>\n",
    "\n",
    "\n",
    "</tr>\n",
    "<tr class=\"row-even\"><td><code><span class=\"pre\">x</span> <span class=\"pre\">\\*</span> <span class=\"pre\">y</span></code></td>\n",
    "<td>product of <em>x</em> and <em>y</em></td>\n",
    "\n",
    "\n",
    "</tr>\n",
    "<tr class=\"row-odd\"><td><code><span class=\"pre\">x</span> <span class=\"pre\">/</span> <span class=\"pre\">y</span></code></td>\n",
    "<td>quotient of <em>x</em> and <em>y</em></td>\n",
    "\n",
    "\n",
    "</tr>\n",
    "<tr class=\"row-even\"><td><code><span class=\"pre\">x</span> <span class=\"pre\">//</span> <span class=\"pre\">y</span></code></td>\n",
    "<td>floored quotient of <em>x</em> and\n",
    "<em>y</em></td>\n",
    "\n",
    "\n",
    "</tr>\n",
    "<tr class=\"row-odd\"><td><code><span class=\"pre\">x</span> <span class=\"pre\">%</span> <span class=\"pre\">y</span></code></td>\n",
    "<td>remainder of <span class=\"pre\">x</span><code><span class=\"pre\">/</span> <span class=\"pre\">y</span></code></td>\n",
    "\n",
    "\n",
    "</tr>\n",
    "<tr class=\"row-even\"><td><code><span class=\"pre\">-x</span></code></td>\n",
    "<td><em>x</em> negated</td>\n",
    "\n",
    "\n",
    "</tr>\n",
    "<tr class=\"row-odd\"><td><code><span class=\"pre\">+x</span></code></td>\n",
    "<td><em>x</em> unchanged</td>\n",
    "\n",
    "\n",
    "</tr>\n",
    "<tr class=\"row-even\"><td><code><span class=\"pre\">abs(x)</span></code></td>\n",
    "<td>absolute value or magnitude of\n",
    "<em>x</em></td>\n",
    "\n",
    "\n",
    "</tr>\n",
    "<tr class=\"row-odd\"><td><code><span class=\"pre\">int(x)</span></code></td>\n",
    "<td><em>x</em> converted to integer</td>\n",
    "\n",
    "\n",
    "</tr>\n",
    "<tr class=\"row-even\"><td><code><span class=\"pre\">float(x)</span></code></td>\n",
    "<td><em>x</em> converted to floating point</td>\n",
    "\n",
    "\n",
    "</tr>\n",
    "<tr class=\"row-odd\"><td><code><span class=\"pre\">complex(re,</span> <span class=\"pre\">im)</span></code></td>\n",
    "<td>a complex number with real part\n",
    "<em>re</em>, imaginary part <em>im</em>.\n",
    "<em>im</em> defaults to zero.</td>\n",
    "\n",
    "\n",
    "</tr>\n",
    "<tr class=\"row-even\"><td><code><span class=\"pre\">pow(x,</span> <span class=\"pre\">y)</span></code></td>\n",
    "<td><em>x</em> to the power <em>y</em></td>\n",
    "\n",
    "\n",
    "</tr>\n",
    "<tr class=\"row-odd\"><td><code><span class=\"pre\">x</span> <span class=\"pre\">**</span> <span class=\"pre\">y</span></code></td>\n",
    "<td><em>x</em> to the power <em>y</em></td>\n",
    "\n",
    "\n",
    "</tr>\n",
    "</tbody>\n",
    "</table>"
   ]
  },
  {
   "cell_type": "code",
   "execution_count": null,
   "metadata": {
    "collapsed": false
   },
   "outputs": [],
   "source": [
    "# Some numeric operations\n",
    "print(\"1 + 1:\", 1 + 1)\n",
    "print(\"1 - 1:\", 1 - 1)\n",
    "print(\"2 * 2:\", 2 * 2)\n",
    "print(\"2 / 2:\", 2 / 2)  # division ends up with float\n",
    "print(\"5 // 2:\", 5 // 2)  # division rounded down to integer\n",
    "print(\"5 % 2:\", 5 % 2)  # the remainder of 5 / 2\n",
    "print(\"2 ** 4:\", 2 ** 4)  # 2 x 2 x 2 x 2\n",
    "print(\"abs(-5):\", abs(-5))  # absolute value"
   ]
  },
  {
   "cell_type": "code",
   "execution_count": null,
   "metadata": {
    "collapsed": false
   },
   "outputs": [],
   "source": [
    "# Addition can also be done on other types\n",
    "print('\"Hello\" + \"world!\":', \"Hello\" + \"world!\")\n",
    "print(\"[1, 2] + [3, 4]:\", [1, 2] + [3, 4])"
   ]
  },
  {
   "cell_type": "markdown",
   "metadata": {},
   "source": [
    "#### String operations\n",
    "\n",
    "Strings might be the most commonly used type and mainly you use their methods. A method is pre-defined and can be used by calling it like this: str.method()"
   ]
  },
  {
   "cell_type": "code",
   "execution_count": null,
   "metadata": {
    "collapsed": false
   },
   "outputs": [],
   "source": [
    "print(\"hello\".capitalize())\n",
    "print(\"hello\".count(\"l\"))\n",
    "print(\"hello\".find(\"ello\"))\n",
    "print(\"hello\".replace(\"h\", \"y\"))\n",
    "print(\"this is a sentence\".split(\" \"))\n",
    "print(\"(hello!)\".strip(\"!()\"))\n",
    "print(\"1\".zfill(2))"
   ]
  },
  {
   "cell_type": "markdown",
   "metadata": {},
   "source": [
    "# Control structures\n",
    "Control structures are an important way to bring logic into your code. The two most important ones are 'if else' and 'loops'.\n",
    "\n",
    "#### Decision making\n",
    "\n",
    "![alt text](data/images/decision_making.jpg \"Title\")\n",
    "\n",
    "An important concept in programming is decision making. This works like this:\n",
    "- you check for a certain condition\n",
    "- do something if that condition is True\n",
    "- do something if else another condition is True (optional)\n",
    "- else do something else (optional)"
   ]
  },
  {
   "cell_type": "code",
   "execution_count": null,
   "metadata": {
    "collapsed": false
   },
   "outputs": [],
   "source": [
    "name = \"Tony\"\n",
    "if name == \"Tony\":\n",
    "    print(\"Hello\", name)"
   ]
  },
  {
   "cell_type": "code",
   "execution_count": null,
   "metadata": {
    "collapsed": false
   },
   "outputs": [],
   "source": [
    "name = \"Paul\"\n",
    "if name == \"Tony\":\n",
    "    print(\"Hello\", name)\n",
    "else:\n",
    "    print(name, \"you are not Tony\")"
   ]
  },
  {
   "cell_type": "code",
   "execution_count": null,
   "metadata": {
    "collapsed": false
   },
   "outputs": [],
   "source": [
    "name = \"Joey\"\n",
    "if name == \"Tony\":\n",
    "    print(\"Hello\", name)\n",
    "elif name == \"Paul\":\n",
    "    print(\"Hello\", name)\n",
    "else:\n",
    "    print(name, \"you are not Tony or Paul\")"
   ]
  },
  {
   "cell_type": "markdown",
   "metadata": {},
   "source": [
    "#### Loops\n",
    "\n",
    "![alt text](data/images/loop_architecture.jpg \"Title\")\n",
    "\n",
    "Simply said loops execute whatever is in it 1 or more times. In Python there are two types of loops: 'for loop' and 'while loop'.\n",
    "\n",
    "- A 'for loop' uses a sequence to determine how often it has to execute\n",
    "- A 'while loop' executes as long as a certain condition is True\n",
    "\n",
    "The danger with 'while loops' is that they can go forever (which is mostly not what you want)"
   ]
  },
  {
   "cell_type": "code",
   "execution_count": null,
   "metadata": {
    "collapsed": false
   },
   "outputs": [],
   "source": [
    "names = [\"Tony\", \"Paul\", \"Joey\"]\n",
    "for name in names:\n",
    "    if name == \"Tony\":\n",
    "        print(\"Hello\", name)\n",
    "    elif name == \"Paul\":\n",
    "        print(\"Hello\", name)\n",
    "    else:\n",
    "        print(name, \"you are not Tony or Paul\")"
   ]
  },
  {
   "cell_type": "markdown",
   "metadata": {},
   "source": [
    "In this case the loop executes 3 times because we have 3 names in our list (the sequence). For every loop we make, we get the current value from the sequence as 'name'."
   ]
  },
  {
   "cell_type": "code",
   "execution_count": null,
   "metadata": {
    "collapsed": false
   },
   "outputs": [],
   "source": [
    "count = 0\n",
    "while count < 3:\n",
    "    print(count)\n",
    "    count += 1"
   ]
  },
  {
   "cell_type": "markdown",
   "metadata": {},
   "source": [
    "For the time being let's not go deeper in the use of while loops"
   ]
  },
  {
   "cell_type": "markdown",
   "metadata": {},
   "source": [
    "# Code re-usage\n",
    "\n",
    "You can achieve quite a lot by using a lot of if-else-statements and loops, self-thaught programmers or non-developers might tend to do this more. However, you really shouldn't. The last three basic concepts we need to know before we can start doing something useful are:\n",
    "- functions\n",
    "- classes\n",
    "- modules\n",
    "\n",
    "#### Functions\n",
    "\n",
    "A function is a code block that you can re-use. For instance what we did above, checking if a name is Tony or Paul can also be done with a function. You can declare a function with 'def' + 'function name' + '():'. You can pass so called arguments (variables) to the function. To this put them between the brackets."
   ]
  },
  {
   "cell_type": "code",
   "execution_count": null,
   "metadata": {
    "collapsed": true
   },
   "outputs": [],
   "source": [
    "def test_name(name):\n",
    "    if name == \"Tony\":\n",
    "        print(\"Hello\", name)\n",
    "    elif name == \"Paul\":\n",
    "        print(\"Hello\", name)\n",
    "    else:\n",
    "        print(name, \"you are not Tony or Paul\")"
   ]
  },
  {
   "cell_type": "markdown",
   "metadata": {},
   "source": [
    "We now have a function which tests if a name is Tony or Paul. We can use this function like this:"
   ]
  },
  {
   "cell_type": "code",
   "execution_count": null,
   "metadata": {
    "collapsed": false
   },
   "outputs": [],
   "source": [
    "names = [\"Tony\", \"Paul\", \"Joey\"]\n",
    "for name in names:\n",
    "    test_name(name)"
   ]
  },
  {
   "cell_type": "markdown",
   "metadata": {},
   "source": [
    "Previously we printed some values to display types, we can really simplify this with a function"
   ]
  },
  {
   "cell_type": "code",
   "execution_count": null,
   "metadata": {
    "collapsed": true
   },
   "outputs": [],
   "source": [
    "def print_type(value):\n",
    "    print(value, type(value))"
   ]
  },
  {
   "cell_type": "code",
   "execution_count": null,
   "metadata": {
    "collapsed": true
   },
   "outputs": [],
   "source": [
    "values = [\n",
    "    True, False, 32, 20.4, 10e6, [1, 2], (1, 2), range(10), \n",
    "    \"hello\", {1, 2}, {\"a\": 1, \"b\": 2}, type, None, b\"test\"\n",
    "]"
   ]
  },
  {
   "cell_type": "code",
   "execution_count": null,
   "metadata": {
    "collapsed": false
   },
   "outputs": [],
   "source": [
    "for value in values:\n",
    "    print_type(value)"
   ]
  },
  {
   "cell_type": "markdown",
   "metadata": {},
   "source": [
    "Simply said: in programming you don't want to repeat yourself, functions allow you to prevent that\n",
    "\n",
    "#### Classes\n",
    "\n",
    "Ok time to take the red pill.\n",
    "\n",
    "![alt text](data/images/red_and_blue_pill.jpg \"Title\")\n",
    "\n",
    "Ever heard of Object Oriented Programming? Well in Python everything is an object.\n",
    "\n",
    "![alt text](data/images/mind_blown.gif \"Title\")"
   ]
  },
  {
   "cell_type": "markdown",
   "metadata": {},
   "source": [
    "A class is the definition of an object and every instance of that class is an object. Which means everything you use in Python is defined as a class.\n",
    "\n",
    "- 1 is an object (also called instance) of class int\n",
    "- \"test\" is an object of class str\n",
    "\n",
    "Without getting to theoretical at this point let's look at how we can define a class and use it. You can declare a class with 'class' + 'class name' + '():'. You can pass so called arguments (variables) to the class. To this you need to define an \\__init__ function."
   ]
  },
  {
   "cell_type": "code",
   "execution_count": null,
   "metadata": {
    "collapsed": false
   },
   "outputs": [],
   "source": [
    "class Person(object):\n",
    "    \n",
    "    def __init__(self, name):\n",
    "        self.name = name\n",
    "    \n",
    "    def is_tony_or_paul(self):\n",
    "        if self.name == \"Tony\":\n",
    "            print(\"Hello\", self.name)\n",
    "        elif name == \"Paul\":\n",
    "            print(\"Hello\", self.name)\n",
    "        else:\n",
    "            print(\"I am not Tony or Paul, but:\", self.name)"
   ]
  },
  {
   "cell_type": "code",
   "execution_count": null,
   "metadata": {
    "collapsed": false
   },
   "outputs": [],
   "source": [
    "tony = Person(\"Tony\")  # create an instance of class Person\n",
    "tony.is_tony_or_paul()"
   ]
  },
  {
   "cell_type": "markdown",
   "metadata": {},
   "source": [
    "As we see above a class is a collection of functions and state. We define the functions (methods) like normal functions, however they always have an argument called self. The 'self' allows you to store 'state'. In this case the state of Person contains the name. We could change the name and get a different result from the same function:"
   ]
  },
  {
   "cell_type": "code",
   "execution_count": null,
   "metadata": {
    "collapsed": false
   },
   "outputs": [],
   "source": [
    "tony.name = \"Joey\"\n",
    "tony.is_tony_or_paul()"
   ]
  },
  {
   "cell_type": "markdown",
   "metadata": {},
   "source": [
    "As you might have notice, using the method we defined in our Person class is similar to using methods with strings.\n",
    "\n",
    "```python\n",
    "\"hello\".count(\"l\")\n",
    "```\n",
    "\n",
    "A simplification of the str class could look like this:\n",
    "\n",
    "```python\n",
    "class Str(object):\n",
    "\n",
    "    def __init__(self, str):\n",
    "        self.str = str\n",
    "    \n",
    "    def count(self, search_letter):\n",
    "        cnt = 0\n",
    "        for letter in self.str:\n",
    "            if letter == search_letter:\n",
    "                cnt += 1\n",
    "        \n",
    "        return cnt\n",
    "```"
   ]
  },
  {
   "cell_type": "code",
   "execution_count": null,
   "metadata": {
    "collapsed": true
   },
   "outputs": [],
   "source": [
    "class MyString(object):\n",
    "\n",
    "    def __init__(self, text):\n",
    "        self.text = text\n",
    "    \n",
    "    def count(self, search_letter):\n",
    "        cnt = 0\n",
    "        for letter in self.text:\n",
    "            if letter == search_letter:\n",
    "                cnt += 1\n",
    "        \n",
    "        return cnt"
   ]
  },
  {
   "cell_type": "raw",
   "metadata": {},
   "source": [
    "hello = MyString(\"hello\")\n",
    "hello.count(\"l\")"
   ]
  },
  {
   "cell_type": "markdown",
   "metadata": {
    "collapsed": true
   },
   "source": [
    "#### Modules & Packages\n",
    "\n",
    "A module is a file consisting of Python code, a package is one or more Python modules. Python code in a module can simply be executed (run the code) like this:\n",
    "\n",
    "```bash\n",
    "python module_name.py\n",
    "```\n",
    "\n",
    "If we want to use the code we can import it:\n",
    "\n",
    "```python\n",
    "import module_name\n",
    "```\n",
    "\n",
    "Python by default ships with many packages, we call this the standard library (stdlib). It is important to get to know these packages and use them, instead of writing all code by yourself. This is a mistake a lot of beginners are making, and one we want to avoid.\n",
    "\n",
    "Anaconda is a scientific distribution of Python and comes with even more packages.\n",
    "\n",
    "And... there are even many more packages which we can install, mostly like this:\n",
    "\n",
    "```bash\n",
    "# pip is a package management system\n",
    "# Pip Installs Packages (PIP)\n",
    "pip install package_name\n",
    "```\n",
    "\n",
    "Let's important some packages!"
   ]
  },
  {
   "cell_type": "code",
   "execution_count": 2,
   "metadata": {
    "collapsed": false
   },
   "outputs": [
    {
     "data": {
      "text/plain": [
       "datetime.datetime(2017, 3, 17, 9, 43, 10, 689362)"
      ]
     },
     "execution_count": 2,
     "metadata": {},
     "output_type": "execute_result"
    }
   ],
   "source": [
    "import datetime\n",
    "\n",
    "# 'datetime' is a package, which has a module which is also called 'datetime', which has a function 'now'\n",
    "datetime.datetime.now()"
   ]
  },
  {
   "cell_type": "code",
   "execution_count": 11,
   "metadata": {
    "collapsed": false
   },
   "outputs": [
    {
     "data": {
      "text/html": [
       "<!doctype html><html itemscope=\"\" itemtype=\"http://schema.org/WebPage\" lang=\"de-CH\"><head><meta content=\"text/html; charset=UTF-8\" http-equiv=\"Content-Type\"><meta content=\"/images/branding/googleg/1x/googleg_standard_color_128dp.png\" itemprop=\"image\"><title>Google</title><script>(function(){window.google={kEI:'c6LLWNTCDoG4aceXlOgB',kEXPI:'1352992,1352997,3700298,3700347,3700405,4029815,4031109,4032678,4036527,4038012,4039268,4040138,4043492,4045841,4048347,4065787,4072364,4072773,4073405,4073776,4076095,4076999,4078430,4079894,4081038,4081165,4082441,4083030,4089618,4090550,4090553,4090894,4092246,4092475,4092479,4092934,4093948,4094251,4094544,4094769,4095381,4095909,4095997,4096324,4096743,4096747,4096748,4097129,4097153,4097194,4097204,4097470,4097922,4097929,4098047,4098733,4098740,4098752,4099310,4100170,4100320,4100380,4100818,4101224,4101369,4101376,4101651,4101681,4101879,4102020,4102054,4102099,4102109,4102207,4102303,4102310,4102411,4102658,4103059,8300507,8503585,8505259,8507381,8507420,8507940,8508229,8508707,8508931,8509037,8509373,8509871,8510787,10200083,10202231,19001898,41027342',authuser:0,kscs:'c9c918f0_24'};google.kHL='de-CH';})();(function(){google.lc=[];google.li=0;google.getEI=function(a){for(var b;a&&(!a.getAttribute||!(b=a.getAttribute(\"eid\")));)a=a.parentNode;return b||google.kEI};google.getLEI=function(a){for(var b=null;a&&(!a.getAttribute||!(b=a.getAttribute(\"leid\")));)a=a.parentNode;return b};google.https=function(){return\"https:\"==window.location.protocol};google.ml=function(){return null};google.wl=function(a,b){try{google.ml(Error(a),!1,b)}catch(c){}};google.time=function(){return(new Date).getTime()};google.log=function(a,b,c,d,g){a=google.logUrl(a,b,c,d,g);if(\"\"!=a){b=new Image;var e=google.lc,f=google.li;e[f]=b;b.onerror=b.onload=b.onabort=function(){delete e[f]};window.google&&window.google.vel&&window.google.vel.lu&&window.google.vel.lu(a);b.src=a;google.li=f+1}};google.logUrl=function(a,b,c,d,g){var e=\"\",f=google.ls||\"\";c||-1!=b.search(\"&ei=\")||(e=\"&ei=\"+google.getEI(d),-1==b.search(\"&lei=\")&&(d=google.getLEI(d))&&(e+=\"&lei=\"+d));a=c||\"/\"+(g||\"gen_204\")+\"?atyp=i&ct=\"+a+\"&cad=\"+b+e+f+\"&zx=\"+google.time();/^http:/i.test(a)&&google.https()&&(google.ml(Error(\"a\"),!1,{src:a,glmm:1}),a=\"\");return a};google.y={};google.x=function(a,b){google.y[a.id]=[a,b];return!1};google.lq=[];google.load=function(a,b,c){google.lq.push([[a],b,c])};google.loadAll=function(a,b){google.lq.push([a,b])};}).call(this);var a=window.location,b=a.href.indexOf(\"#\");if(0<=b){var c=a.href.substring(b+1);/(^|&)q=/.test(c)&&-1==c.indexOf(\"#\")&&a.replace(\"/search?\"+c.replace(/(^|&)fp=[^&]*/g,\"\")+\"&cad=h\")};</script><style>#gbar,#guser{font-size:13px;padding-top:1px !important;}#gbar{height:22px}#guser{padding-bottom:7px !important;text-align:right}.gbh,.gbd{border-top:1px solid #c9d7f1;font-size:1px}.gbh{height:0;position:absolute;top:24px;width:100%}@media all{.gb1{height:22px;margin-right:.5em;vertical-align:top}#gbar{float:left}}a.gb1,a.gb4{text-decoration:underline !important}a.gb1,a.gb4{color:#00c !important}.gbi .gb4{color:#dd8e27 !important}.gbf .gb4{color:#900 !important}\n",
       "</style><style>body,td,a,p,.h{font-family:arial,sans-serif}body{margin:0;overflow-y:scroll}#gog{padding:3px 8px 0}td{line-height:.8em}.gac_m td{line-height:17px}form{margin-bottom:20px}.h{color:#36c}.q{color:#00c}.ts td{padding:0}.ts{border-collapse:collapse}em{font-weight:bold;font-style:normal}.lst{height:25px;width:496px}.gsfi,.lst{font:18px arial,sans-serif}.gsfs{font:17px arial,sans-serif}.ds{display:inline-box;display:inline-block;margin:3px 0 4px;margin-left:4px}input{font-family:inherit}a.gb1,a.gb2,a.gb3,a.gb4{color:#11c !important}body{background:#fff;color:black}a{color:#11c;text-decoration:none}a:hover,a:active{text-decoration:underline}.fl a{color:#36c}a:visited{color:#551a8b}a.gb1,a.gb4{text-decoration:underline}a.gb3:hover{text-decoration:none}#ghead a.gb2:hover{color:#fff !important}.sblc{padding-top:5px}.sblc a{display:block;margin:2px 0;margin-left:13px;font-size:11px}.lsbb{background:#eee;border:solid 1px;border-color:#ccc #999 #999 #ccc;height:30px}.lsbb{display:block}.ftl,#fll a{display:inline-block;margin:0 12px}.lsb{background:url(/images/nav_logo229.png) 0 -261px repeat-x;border:none;color:#000;cursor:pointer;height:30px;margin:0;outline:0;font:15px arial,sans-serif;vertical-align:top}.lsb:active{background:#ccc}.lst:focus{outline:none}</style><script></script><link href=\"/images/branding/product/ico/googleg_lodp.ico\" rel=\"shortcut icon\"></head><body bgcolor=\"#fff\"><script>(function(){var src='/images/nav_logo229.png';var iesg=false;document.body.onload = function(){window.n && window.n();if (document.images){new Image().src=src;}\n",
       "if (!iesg){document.f&&document.f.q.focus();document.gbqf&&document.gbqf.q.focus();}\n",
       "}\n",
       "})();</script><div id=\"mngb\"> <div id=gbar><nobr><b class=gb1>Suche</b> <a class=gb1 href=\"http://www.google.ch/imghp?hl=de&tab=wi\">Bilder</a> <a class=gb1 href=\"http://maps.google.ch/maps?hl=de&tab=wl\">Maps</a> <a class=gb1 href=\"https://play.google.com/?hl=de&tab=w8\">Play</a> <a class=gb1 href=\"http://www.youtube.com/?gl=CH&tab=w1\">YouTube</a> <a class=gb1 href=\"http://news.google.ch/nwshp?hl=de&tab=wn\">News</a> <a class=gb1 href=\"https://mail.google.com/mail/?tab=wm\">Gmail</a> <a class=gb1 href=\"https://drive.google.com/?tab=wo\">Drive</a> <a class=gb1 style=\"text-decoration:none\" href=\"https://www.google.ch/intl/de/options/\"><u>Mehr</u> &raquo;</a></nobr></div><div id=guser width=100%><nobr><span id=gbn class=gbi></span><span id=gbf class=gbf></span><span id=gbe></span><a href=\"http://www.google.ch/history/optout?hl=de\" class=gb4>Webprotokoll</a> | <a  href=\"/preferences?hl=de\" class=gb4>Einstellungen</a> | <a target=_top id=gb_70 href=\"https://accounts.google.com/ServiceLogin?hl=de&passive=true&continue=http://www.google.ch/%3Fgfe_rd%3Dcr%26ei%3Dc6LLWKj2DOKX8Qf62Z_ADg\" class=gb4>Anmelden</a></nobr></div><div class=gbh style=left:0></div><div class=gbh style=right:0></div> </div><center><br clear=\"all\" id=\"lgpd\"><div id=\"lga\"><div style=\"padding:28px 0 3px\"><div style=\"height:110px;width:276px;background:url(/images/branding/googlelogo/1x/googlelogo_white_background_color_272x92dp.png) no-repeat\" title=\"Google\" align=\"left\" id=\"hplogo\" onload=\"window.lol&&lol()\"><div style=\"color:#777;font-size:16px;font-weight:bold;position:relative;top:70px;left:218px\" nowrap=\"\">Schweiz</div></div></div><br></div><form action=\"/search\" name=\"f\"><table cellpadding=\"0\" cellspacing=\"0\"><tr valign=\"top\"><td width=\"25%\">&nbsp;</td><td align=\"center\" nowrap=\"\"><input name=\"ie\" value=\"ISO-8859-1\" type=\"hidden\"><input value=\"de-CH\" name=\"hl\" type=\"hidden\"><input name=\"source\" type=\"hidden\" value=\"hp\"><input name=\"biw\" type=\"hidden\"><input name=\"bih\" type=\"hidden\"><div class=\"ds\" style=\"height:32px;margin:4px 0\"><input style=\"color:#000;margin:0;padding:5px 8px 0 6px;vertical-align:top\" autocomplete=\"off\" class=\"lst\" value=\"\" title=\"Google-Suche\" maxlength=\"2048\" name=\"q\" size=\"57\"></div><br style=\"line-height:0\"><span class=\"ds\"><span class=\"lsbb\"><input class=\"lsb\" value=\"Google-Suche\" name=\"btnG\" type=\"submit\"></span></span><span class=\"ds\"><span class=\"lsbb\"><input class=\"lsb\" value=\"Auf gut Glück!\" name=\"btnI\" onclick=\"if(this.form.q.value)this.checked=1; else top.location='/doodles/'\" type=\"submit\"></span></span></td><td class=\"fl sblc\" align=\"left\" nowrap=\"\" width=\"25%\"><a href=\"/advanced_search?hl=de-CH&amp;authuser=0\">Erweiterte Suche</a><a href=\"/language_tools?hl=de-CH&amp;authuser=0\">Sprachoptionen</a></td></tr></table><input id=\"gbv\" name=\"gbv\" type=\"hidden\" value=\"1\"></form><div id=\"gac_scont\"></div><div style=\"font-size:83%;min-height:3.5em\"><br><div id=\"als\"><style>#als{font-size:small;margin-bottom:24px}#_eEe{display:inline-block;line-height:28px;}#_eEe a{padding:0 3px;}._lEe{display:inline-block;margin:0 2px;white-space:nowrap}._PEe{display:inline-block;margin:0 2px}</style><div id=\"_eEe\">Google.ch angeboten auf: <a href=\"http://www.google.ch/setprefs?sig=0_0NfI13R8Xt4bn70JEEy1pmOfajI%3D&amp;hl=en&amp;source=homepage\" data-ved=\"0ahUKEwiUyKu8k93SAhUBXBoKHccLBR0Q2ZgBCAU\">English</a>  <a href=\"http://www.google.ch/setprefs?sig=0_0NfI13R8Xt4bn70JEEy1pmOfajI%3D&amp;hl=fr&amp;source=homepage\" data-ved=\"0ahUKEwiUyKu8k93SAhUBXBoKHccLBR0Q2ZgBCAY\">Français</a>  <a href=\"http://www.google.ch/setprefs?sig=0_0NfI13R8Xt4bn70JEEy1pmOfajI%3D&amp;hl=it&amp;source=homepage\" data-ved=\"0ahUKEwiUyKu8k93SAhUBXBoKHccLBR0Q2ZgBCAc\">Italiano</a>  <a href=\"http://www.google.ch/setprefs?sig=0_0NfI13R8Xt4bn70JEEy1pmOfajI%3D&amp;hl=rm&amp;source=homepage\" data-ved=\"0ahUKEwiUyKu8k93SAhUBXBoKHccLBR0Q2ZgBCAg\">Rumantsch</a> </div></div></div><span id=\"footer\"><div style=\"font-size:10pt\"><div style=\"margin:19px auto;text-align:center\" id=\"fll\"><a href=\"/intl/de/ads/\">Werben mit Google</a><a href=\"http://www.google.ch/intl/de/services/\">Lösungen für Unternehmen</a><a href=\"https://plus.google.com/105772902399567012021\" rel=\"publisher\">+Google</a><a href=\"/intl/de/about.html\">Über Google</a><a href=\"http://www.google.ch/setprefdomain?prefdom=US&amp;sig=__aL_YHcuaKSNeFE1WU1yvRAs-Lic%3D\" id=\"fehl\">Google.com</a></div></div><p style=\"color:#767676;font-size:8pt\">&copy; 2017 - <a href=\"/intl/de/policies/privacy/\">Datenschutzerklärung</a> - <a href=\"/intl/de/policies/terms/\">Nutzungsbedingungen</a></p></span></center><script>(function(){window.google.cdo={height:0,width:0};(function(){var a=window.innerWidth,b=window.innerHeight;if(!a||!b)var c=window.document,d=\"CSS1Compat\"==c.compatMode?c.documentElement:c.body,a=d.clientWidth,b=d.clientHeight;a&&b&&(a!=google.cdo.width||b!=google.cdo.height)&&google.log(\"\",\"\",\"/client_204?&atyp=i&biw=\"+a+\"&bih=\"+b+\"&ei=\"+google.kEI);}).call(this);})();</script><div id=\"xjsd\"></div><div id=\"xjsi\"><script>(function(){function c(b){window.setTimeout(function(){var a=document.createElement(\"script\");a.src=b;document.getElementById(\"xjsd\").appendChild(a)},0)}google.dljp=function(b,a){google.xjsu=b;c(a)};google.dlj=c;}).call(this);(function(){window.google.xjsrm=[];})();if(google.y)google.y.first=[];if(!google.xjs){window._=window._||{};window._._DumpException=function(e){throw e};if(google.timers&&google.timers.load.t){google.timers.load.t.xjsls=new Date().getTime();}google.dljp('/xjs/_/js/k\\x3dxjs.hp.en_US.t618y7Bxons.O/m\\x3dsb_he,d/am\\x3dAAE/rt\\x3dj/d\\x3d1/t\\x3dzcms/rs\\x3dACT90oHIgKtrpt40pe--goiCLsxy8O730Q','/xjs/_/js/k\\x3dxjs.hp.en_US.t618y7Bxons.O/m\\x3dsb_he,d/am\\x3dAAE/rt\\x3dj/d\\x3d1/t\\x3dzcms/rs\\x3dACT90oHIgKtrpt40pe--goiCLsxy8O730Q');google.xjs=1;}google.pmc={\"sb_he\":{\"agen\":true,\"cgen\":true,\"client\":\"heirloom-hp\",\"dh\":true,\"dhqt\":true,\"ds\":\"\",\"fl\":true,\"host\":\"google.ch\",\"isbh\":28,\"jam\":0,\"jsonp\":true,\"lm\":true,\"msgs\":{\"cibl\":\"Suche löschen\",\"dym\":\"Meintest du:\",\"lcky\":\"Auf gut Glück!\",\"lml\":\"Weitere Informationen\",\"oskt\":\"Eingabetools\",\"psrc\":\"Diese Suchanfrage wurde aus Ihrem \\u003Ca href=\\\"/history\\\"\\u003EWebprotokoll\\u003C/a\\u003E entfernt.\",\"psrl\":\"Entfernen\",\"sbit\":\"Bildersuche\",\"srch\":\"Google-Suche\"},\"nds\":true,\"ovr\":{},\"pq\":\"\",\"refpd\":true,\"rfs\":[],\"sbpl\":24,\"sbpr\":24,\"scd\":10,\"sce\":5,\"stok\":\"H-r3M6S7ThCGqVOLDSey_CA5ROE\"},\"d\":{},\"YFCs/g\":{}};google.y.first.push(function(){if(google.med){google.med('init');google.initHistory();google.med('history');}});if(google.j&&google.j.en&&google.j.xi){window.setTimeout(google.j.xi,0);}\n",
       "</script></div></body></html>"
      ],
      "text/plain": [
       "<IPython.core.display.HTML object>"
      ]
     },
     "execution_count": 11,
     "metadata": {},
     "output_type": "execute_result"
    }
   ],
   "source": [
    "import requests\n",
    "from IPython.core.display import HTML\n",
    "\n",
    "response = requests.get(\"http://www.google.com\")\n",
    "HTML(response.text)"
   ]
  },
  {
   "cell_type": "code",
   "execution_count": null,
   "metadata": {
    "collapsed": true
   },
   "outputs": [],
   "source": []
  }
 ],
 "metadata": {
  "kernelspec": {
   "display_name": "Python 3",
   "language": "python",
   "name": "python3"
  },
  "language_info": {
   "codemirror_mode": {
    "name": "ipython",
    "version": 3
   },
   "file_extension": ".py",
   "mimetype": "text/x-python",
   "name": "python",
   "nbconvert_exporter": "python",
   "pygments_lexer": "ipython3",
   "version": "3.6.0"
  }
 },
 "nbformat": 4,
 "nbformat_minor": 2
}
