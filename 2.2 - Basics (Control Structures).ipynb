{
 "cells": [
  {
   "cell_type": "markdown",
   "metadata": {},
   "source": [
    "# Control structures\n",
    "Control structures are an important way to bring logic into your code. The two most important ones are 'if else' and 'loops'.\n",
    "\n",
    "#### Decision making\n",
    "\n",
    "![alt text](data/images/decision_making.jpg \"Title\")\n",
    "\n",
    "An important concept in programming is decision making. This works like this:\n",
    "- you check for a certain condition\n",
    "- do something if that condition is True\n",
    "- do something if else another condition is True (optional)\n",
    "- else do something else (optional)"
   ]
  },
  {
   "cell_type": "code",
   "execution_count": null,
   "metadata": {
    "collapsed": false
   },
   "outputs": [],
   "source": [
    "name = \"Tony\"\n",
    "if name == \"Tony\":\n",
    "    print(\"Hello\", name)"
   ]
  },
  {
   "cell_type": "code",
   "execution_count": null,
   "metadata": {
    "collapsed": false
   },
   "outputs": [],
   "source": [
    "name = \"Paul\"\n",
    "if name == \"Tony\":\n",
    "    print(\"Hello\", name)\n",
    "else:\n",
    "    print(name, \"you are not Tony\")"
   ]
  },
  {
   "cell_type": "code",
   "execution_count": null,
   "metadata": {
    "collapsed": false
   },
   "outputs": [],
   "source": [
    "name = \"Joey\"\n",
    "if name == \"Tony\":\n",
    "    print(\"Hello\", name)\n",
    "elif name == \"Paul\":\n",
    "    print(\"Hello\", name)\n",
    "else:\n",
    "    print(name, \"you are not Tony or Paul\")"
   ]
  },
  {
   "cell_type": "markdown",
   "metadata": {},
   "source": [
    "#### Loops\n",
    "\n",
    "![alt text](data/images/loop_architecture.jpg \"Title\")\n",
    "\n",
    "Simply said loops execute whatever is in it 1 or more times. In Python there are two types of loops: 'for loop' and 'while loop'.\n",
    "\n",
    "- A 'for loop' uses a sequence to determine how often it has to execute\n",
    "- A 'while loop' executes as long as a certain condition is True\n",
    "\n",
    "The danger with 'while loops' is that they can go forever (which is mostly not what you want)"
   ]
  },
  {
   "cell_type": "code",
   "execution_count": null,
   "metadata": {
    "collapsed": false
   },
   "outputs": [],
   "source": [
    "names = [\"Tony\", \"Paul\", \"Joey\"]\n",
    "for name in names:\n",
    "    if name == \"Tony\":\n",
    "        print(\"Hello\", name)\n",
    "    elif name == \"Paul\":\n",
    "        print(\"Hello\", name)\n",
    "    else:\n",
    "        print(name, \"you are not Tony or Paul\")"
   ]
  },
  {
   "cell_type": "markdown",
   "metadata": {},
   "source": [
    "In this case the loop executes 3 times because we have 3 names in our list (the sequence). For every loop we make, we get the current value from the sequence as 'name'."
   ]
  },
  {
   "cell_type": "code",
   "execution_count": null,
   "metadata": {
    "collapsed": false
   },
   "outputs": [],
   "source": [
    "count = 0\n",
    "while count < 3:\n",
    "    print(count)\n",
    "    count += 1"
   ]
  },
  {
   "cell_type": "markdown",
   "metadata": {},
   "source": [
    "For the time being let's not go deeper in the use of while loops"
   ]
  },
  {
   "cell_type": "code",
   "execution_count": null,
   "metadata": {
    "collapsed": true
   },
   "outputs": [],
   "source": []
  }
 ],
 "metadata": {
  "kernelspec": {
   "display_name": "Python 3",
   "language": "python",
   "name": "python3"
  },
  "language_info": {
   "codemirror_mode": {
    "name": "ipython",
    "version": 3
   },
   "file_extension": ".py",
   "mimetype": "text/x-python",
   "name": "python",
   "nbconvert_exporter": "python",
   "pygments_lexer": "ipython3",
   "version": "3.6.0"
  }
 },
 "nbformat": 4,
 "nbformat_minor": 0
}
