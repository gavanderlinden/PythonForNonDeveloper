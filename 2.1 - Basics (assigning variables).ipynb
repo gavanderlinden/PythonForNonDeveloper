{
 "cells": [
  {
   "cell_type": "markdown",
   "metadata": {},
   "source": [
    "# Declaring variables\n",
    "\n",
    "The most basic building block of your Python code are variables. Variables are values such as text (string), numbers (integers, floats) and collections (lists). You can assign these values to names which you can use in subsequent code to reference to the value. Python names should start with basic letters from the alphabet or an underscore. You can use numbers but variable names cannot start with a number. Names are case-sensitive.\n",
    "\n",
    "#### Assignment\n",
    "\n",
    "Assignment is simple:\n",
    "\n",
    "```python\n",
    "variable_name = variable_value\n",
    "```"
   ]
  },
  {
   "cell_type": "code",
   "execution_count": null,
   "metadata": {
    "collapsed": false
   },
   "outputs": [],
   "source": [
    "# Any value you want to store you have to assign.\n",
    "a_number = 1\n",
    "print(a_number)"
   ]
  },
  {
   "cell_type": "code",
   "execution_count": null,
   "metadata": {
    "collapsed": false
   },
   "outputs": [],
   "source": [
    "# Also if you update the value\n",
    "# Execute this field multiple times to keep increasing the value (control+enter)\n",
    "a_number = a_number + 1\n",
    "print(a_number)"
   ]
  },
  {
   "cell_type": "code",
   "execution_count": null,
   "metadata": {
    "collapsed": false
   },
   "outputs": [],
   "source": [
    "# A shorthand for variable_name = variable_name + something\n",
    "a_number += 1\n",
    "print(a_number)"
   ]
  },
  {
   "cell_type": "code",
   "execution_count": null,
   "metadata": {
    "collapsed": false
   },
   "outputs": [],
   "source": [
    "# Python is dynamically typed ( variables can be anything and do not have to be declared in advance )\n",
    "# simply said: you write a variable name and a value, the type is automatically assigned\n",
    "name = \"Tony\"\n",
    "age = 31\n",
    "last_3_meals = [\"wraps\", \"sweet potato mash\", \"spaghetti bolognese\"]\n",
    "type(name), type(age), type(last_3_meals)"
   ]
  },
  {
   "cell_type": "code",
   "execution_count": null,
   "metadata": {
    "collapsed": false
   },
   "outputs": [],
   "source": [
    "# types work differently\n",
    "print(name + name)\n",
    "print(age + age)\n",
    "print(last_3_meals + last_3_meals)\n",
    "print(name + age)  # this does not work"
   ]
  },
  {
   "cell_type": "code",
   "execution_count": null,
   "metadata": {
    "collapsed": false
   },
   "outputs": [],
   "source": [
    "# some types can be easily switched\n",
    "print(str(age) + str(age))\n",
    "print(str(last_3_meals) + str(last_3_meals))  # maybe not what you would expect"
   ]
  },
  {
   "cell_type": "code",
   "execution_count": null,
   "metadata": {
    "collapsed": false
   },
   "outputs": [],
   "source": [
    "# or not at all\n",
    "print(int(name) + int(name))"
   ]
  },
  {
   "cell_type": "markdown",
   "metadata": {},
   "source": [
    "# Built-in Types\n",
    "Built-in types are the basic building blocks for your code"
   ]
  },
  {
   "cell_type": "code",
   "execution_count": null,
   "metadata": {
    "collapsed": false
   },
   "outputs": [],
   "source": [
    "# Boolean\n",
    "print(\"\\n__Boolean__\\n\")\n",
    "print(True, type(True))\n",
    "print(False, type(False))\n",
    "print(None, type(None))\n",
    "\n",
    "# Numeric\n",
    "print(\"\\n__Numeric__\\n\")\n",
    "print(32, type(32))\n",
    "print(20.4, type(20.4))\n",
    "print(10e6, type(10e6))\n",
    "\n",
    "# Sequence Types\n",
    "print(\"\\n__Sequence__\\n\")\n",
    "print([1, 2], type([1, 2]))\n",
    "print((1, 2), type((1, 2)))\n",
    "print(range(10), type(range(10)))\n",
    "print(\"hello\", type(\"hello\"))  # string is a text sequence type\n",
    "\n",
    "# Set Types\n",
    "print(\"\\n__Set__\\n\")\n",
    "print({1, 2}, type({1, 2}))\n",
    "\n",
    "# Mapping Types\n",
    "print(\"\\n__Mapping__\\n\")\n",
    "print({\"a\": 1, \"b\": 2}, type({\"a\": 1, \"b\": 2}))\n",
    "\n",
    "# Null & Type\n",
    "print(type, type(type))\n",
    "print(None, type(None))\n",
    "\n",
    "# Binary Sequence Types\n",
    "print(\"\\n__Binary__\\n\")\n",
    "print(b\"test\", type(b\"test\"))  # let's ignore this for now"
   ]
  },
  {
   "cell_type": "markdown",
   "metadata": {},
   "source": [
    "# Operations on types\n",
    "Each type allows you to do operations on them:"
   ]
  },
  {
   "cell_type": "markdown",
   "metadata": {},
   "source": [
    "#### Comparison\n",
    "\n",
    "<table align=\"left\" border=\"1\">\n",
    "<colgroup>\n",
    "<col width=\"50%\">\n",
    "<col width=\"50%\">\n",
    "<col width=\"11%\">\n",
    "<col width=\"24%\">\n",
    "</colgroup>\n",
    "<thead valign=\"bottom\">\n",
    "<tr class=\"row-odd\"><th class=\"head\">Operation</th>\n",
    "<th class=\"head\">Meaning</th>\n",
    "</tr>\n",
    "</thead>\n",
    "<tbody valign=\"top\">\n",
    "<tr class=\"row-even\"><td><code><span class=\"pre\">&lt;</span></code></td>\n",
    "<td>strictly less than</td>\n",
    "</tr>\n",
    "<tr class=\"row-odd\"><td><code><span class=\"pre\">&lt;=</span></code></td>\n",
    "<td>less than or equal</td>\n",
    "</tr>\n",
    "<tr class=\"row-even\"><td><code><span class=\"pre\">&gt;</span></code></td>\n",
    "<td>strictly greater than</td>\n",
    "</tr>\n",
    "<tr class=\"row-odd\"><td><code><span class=\"pre\">&gt;=</span></code></td>\n",
    "<td>greater than or equal</td>\n",
    "</tr>\n",
    "<tr class=\"row-even\"><td><code><span class=\"pre\">==</span></code></td>\n",
    "<td>equal</td>\n",
    "</tr>\n",
    "<tr class=\"row-odd\"><td><code><span class=\"pre\">!=</span></code></td>\n",
    "<td>not equal</td>\n",
    "</tr>\n",
    "<tr class=\"row-even\"><td><code><span class=\"pre\">is</span></code></td>\n",
    "<td>object identity</td>\n",
    "</tr>\n",
    "<tr class=\"row-odd\"><td><code><span class=\"pre\">is</span> <span class=\"pre\">not</span></code></td>\n",
    "<td>negated object identity</td>\n",
    "</tr>\n",
    "</tbody>\n",
    "</table>"
   ]
  },
  {
   "cell_type": "code",
   "execution_count": null,
   "metadata": {
    "collapsed": false
   },
   "outputs": [],
   "source": [
    "# Some numerical comparisons\n",
    "# let's ignore 'is' and 'is not' for now\n",
    "print(\"0 < 1:\", 0 < 1)\n",
    "print(\"0 > 1:\", 0 > 1)\n",
    "print(\"1 <= 1:\", 1 <= 1)\n",
    "print(\"0 <= 1:\", 0 <= 1)\n",
    "print(\"1 <= 0:\", 1 <= 0)\n",
    "print(\"1 <= 0:\", 1 <= 0)\n",
    "print(\"1 >= 0:\", 1 >= 0)\n",
    "print(\"1 == 1:\", 1 == 1)\n",
    "print(\"1 == 0:\", 1 == 0)\n",
    "print(\"1 != 0:\", 1 != 0)"
   ]
  },
  {
   "cell_type": "code",
   "execution_count": null,
   "metadata": {
    "collapsed": false
   },
   "outputs": [],
   "source": [
    "# Comparison also works on other types\n",
    "print('\"Hello\" == \"world!\":', \"Hello\" == \"world!\")\n",
    "print(\"[1, 2] == [1, 2]:\", [1, 2] == [1, 2])\n",
    "print(\"[1, 2, 3] < [4, 5, 6]:\", [1, 2, 3] < [4, 5, 6])  # all integers in the first list are smaller\n",
    "print(\"[1, 2, 3] < [1, 2, 2]:\", [1, 2, 3] < [1, 2, 2])  # the third variable in the second list is bigger\n",
    "print('\"1\" == 1:', \"1\" == 1)  # a string is not an integer\n",
    "print('int(\"1\") == 1:', int(\"1\") == 1)  # however if we transform it to an integer they are equal\n",
    "print(\"(1, 2) == [1, 2]:\", (1, 2) == [1, 2])  # a tuple is not a list"
   ]
  },
  {
   "cell_type": "markdown",
   "metadata": {},
   "source": [
    "#### Numeric operations\n",
    "\n",
    "<table align=\"left\" border=\"1\" class=\"docutils\">\n",
    "<colgroup>\n",
    "<col width=\"25%\">\n",
    "<col width=\"40%\">\n",
    "<col width=\"11%\">\n",
    "<col width=\"24%\">\n",
    "</colgroup>\n",
    "<thead valign=\"bottom\">\n",
    "<tr class=\"row-odd\"><th class=\"head\">Operation</th>\n",
    "<th class=\"head\">Result</th>\n",
    "</tr>\n",
    "</thead>\n",
    "<tbody valign=\"top\">\n",
    "<tr class=\"row-even\"><td><code><span class=\"pre\">x</span> <span class=\"pre\">+</span> <span class=\"pre\">y</span></code></td>\n",
    "<td>sum of <em>x</em> and <em>y</em></td>\n",
    "\n",
    "\n",
    "</tr>\n",
    "<tr class=\"row-odd\"><td><code><span class=\"pre\">x</span> <span class=\"pre\">-</span> <span class=\"pre\">y</span></code></td>\n",
    "<td>difference of <em>x</em> and <em>y</em></td>\n",
    "\n",
    "\n",
    "</tr>\n",
    "<tr class=\"row-even\"><td><code><span class=\"pre\">x</span> <span class=\"pre\">\\*</span> <span class=\"pre\">y</span></code></td>\n",
    "<td>product of <em>x</em> and <em>y</em></td>\n",
    "\n",
    "\n",
    "</tr>\n",
    "<tr class=\"row-odd\"><td><code><span class=\"pre\">x</span> <span class=\"pre\">/</span> <span class=\"pre\">y</span></code></td>\n",
    "<td>quotient of <em>x</em> and <em>y</em></td>\n",
    "\n",
    "\n",
    "</tr>\n",
    "<tr class=\"row-even\"><td><code><span class=\"pre\">x</span> <span class=\"pre\">//</span> <span class=\"pre\">y</span></code></td>\n",
    "<td>floored quotient of <em>x</em> and\n",
    "<em>y</em></td>\n",
    "\n",
    "\n",
    "</tr>\n",
    "<tr class=\"row-odd\"><td><code><span class=\"pre\">x</span> <span class=\"pre\">%</span> <span class=\"pre\">y</span></code></td>\n",
    "<td>remainder of <span class=\"pre\">x</span><code><span class=\"pre\">/</span> <span class=\"pre\">y</span></code></td>\n",
    "\n",
    "\n",
    "</tr>\n",
    "<tr class=\"row-even\"><td><code><span class=\"pre\">-x</span></code></td>\n",
    "<td><em>x</em> negated</td>\n",
    "\n",
    "\n",
    "</tr>\n",
    "<tr class=\"row-odd\"><td><code><span class=\"pre\">+x</span></code></td>\n",
    "<td><em>x</em> unchanged</td>\n",
    "\n",
    "\n",
    "</tr>\n",
    "<tr class=\"row-even\"><td><code><span class=\"pre\">abs(x)</span></code></td>\n",
    "<td>absolute value or magnitude of\n",
    "<em>x</em></td>\n",
    "\n",
    "\n",
    "</tr>\n",
    "<tr class=\"row-odd\"><td><code><span class=\"pre\">int(x)</span></code></td>\n",
    "<td><em>x</em> converted to integer</td>\n",
    "\n",
    "\n",
    "</tr>\n",
    "<tr class=\"row-even\"><td><code><span class=\"pre\">float(x)</span></code></td>\n",
    "<td><em>x</em> converted to floating point</td>\n",
    "\n",
    "\n",
    "</tr>\n",
    "<tr class=\"row-odd\"><td><code><span class=\"pre\">complex(re,</span> <span class=\"pre\">im)</span></code></td>\n",
    "<td>a complex number with real part\n",
    "<em>re</em>, imaginary part <em>im</em>.\n",
    "<em>im</em> defaults to zero.</td>\n",
    "\n",
    "\n",
    "</tr>\n",
    "<tr class=\"row-even\"><td><code><span class=\"pre\">pow(x,</span> <span class=\"pre\">y)</span></code></td>\n",
    "<td><em>x</em> to the power <em>y</em></td>\n",
    "\n",
    "\n",
    "</tr>\n",
    "<tr class=\"row-odd\"><td><code><span class=\"pre\">x</span> <span class=\"pre\">**</span> <span class=\"pre\">y</span></code></td>\n",
    "<td><em>x</em> to the power <em>y</em></td>\n",
    "\n",
    "\n",
    "</tr>\n",
    "</tbody>\n",
    "</table>"
   ]
  },
  {
   "cell_type": "code",
   "execution_count": null,
   "metadata": {
    "collapsed": false
   },
   "outputs": [],
   "source": [
    "# Some numeric operations\n",
    "print(\"1 + 1:\", 1 + 1)\n",
    "print(\"1 - 1:\", 1 - 1)\n",
    "print(\"2 * 2:\", 2 * 2)\n",
    "print(\"2 / 2:\", 2 / 2)  # division ends up with float\n",
    "print(\"5 // 2:\", 5 // 2)  # division rounded down to integer\n",
    "print(\"5 % 2:\", 5 % 2)  # the remainder of 5 / 2\n",
    "print(\"2 ** 4:\", 2 ** 4)  # 2 x 2 x 2 x 2\n",
    "print(\"abs(-5):\", abs(-5))  # absolute value"
   ]
  },
  {
   "cell_type": "code",
   "execution_count": null,
   "metadata": {
    "collapsed": false
   },
   "outputs": [],
   "source": [
    "# Addition can also be done on other types\n",
    "print('\"Hello\" + \"world!\":', \"Hello\" + \"world!\")\n",
    "print(\"[1, 2] + [3, 4]:\", [1, 2] + [3, 4])"
   ]
  },
  {
   "cell_type": "markdown",
   "metadata": {},
   "source": [
    "#### String operations\n",
    "\n",
    "Strings might be the most commonly used type and mainly you use their methods. A method is pre-defined and can be used by calling it like this: str.method()"
   ]
  },
  {
   "cell_type": "code",
   "execution_count": null,
   "metadata": {
    "collapsed": false
   },
   "outputs": [],
   "source": [
    "print(\"hello\".capitalize())\n",
    "print(\"hello\".count(\"l\"))\n",
    "print(\"hello\".find(\"ello\"))\n",
    "print(\"hello\".replace(\"h\", \"y\"))\n",
    "print(\"this is a sentence\".split(\" \"))\n",
    "print(\"(hello!)\".strip(\"!()\"))\n",
    "print(\"1\".zfill(2))"
   ]
  },
  {
   "cell_type": "markdown",
   "metadata": {},
   "source": [
    "#### Accessing variables in sequence types\n",
    "The most important thing about sequence types is accessing the variables stored within.\n",
    "\n",
    "###### Lists\n",
    "You can access variables in a list (works the same for tuples) by their index.\n",
    "Indices start at 0 not at 1. \n",
    "\n",
    "To get the last item in a list you use a negative index, starting with -1."
   ]
  },
  {
   "cell_type": "code",
   "execution_count": null,
   "metadata": {
    "collapsed": false
   },
   "outputs": [],
   "source": [
    "types_of_cookies = [\"chocolate_chip\", \"oreos\", \"whole_wheat\"]\n",
    "print(types_of_cookies[0])\n",
    "print(types_of_cookies[2])\n",
    "print(types_of_cookies[-1])"
   ]
  },
  {
   "cell_type": "code",
   "execution_count": null,
   "metadata": {
    "collapsed": false
   },
   "outputs": [],
   "source": [
    "# You can also slice a list to get a shorter list\n",
    "print(types_of_cookies[:2])\n",
    "print(types_of_cookies[-2:])"
   ]
  },
  {
   "cell_type": "code",
   "execution_count": null,
   "metadata": {
    "collapsed": false
   },
   "outputs": [],
   "source": [
    "# List are mutable (they can be changed):\n",
    "types_of_cookies.append(\"biscotti\")\n",
    "print(types_of_cookies)"
   ]
  },
  {
   "cell_type": "code",
   "execution_count": null,
   "metadata": {
    "collapsed": false
   },
   "outputs": [],
   "source": [
    "# add another sequence\n",
    "# if you add a string, each letter will be added separately which is probably not what you want\n",
    "types_of_cookies = types_of_cookies + [\"macaroon\"]\n",
    "print(types_of_cookies)"
   ]
  },
  {
   "cell_type": "code",
   "execution_count": null,
   "metadata": {
    "collapsed": false
   },
   "outputs": [],
   "source": [
    "# remove the last item\n",
    "del types_of_cookies[-1]\n",
    "print(types_of_cookies)"
   ]
  },
  {
   "cell_type": "code",
   "execution_count": null,
   "metadata": {
    "collapsed": false
   },
   "outputs": [],
   "source": [
    "# remove the last item and assign to variable\n",
    "cookie = types_of_cookies.pop()\n",
    "print(cookie)\n",
    "print(types_of_cookies)"
   ]
  },
  {
   "cell_type": "markdown",
   "metadata": {},
   "source": [
    "#### Accessing variables in mapping types\n",
    "\n",
    "The mapping type we will use the most, is the dictionary. You can access the items in a dictionary by their key instead of their index."
   ]
  },
  {
   "cell_type": "code",
   "execution_count": null,
   "metadata": {
    "collapsed": false
   },
   "outputs": [],
   "source": [
    "calories_per_100_gram = {\n",
    "    \"Spinach\": 23,\n",
    "    \"Kale\": 49,\n",
    "    \"Coconot Milk\": 230,\n",
    "    \"Avocados\": 160,\n",
    "    \"Brown Rice\": 111,\n",
    "    \"Mackarel\": 262,\n",
    "    \"Ground Pork\": 334\n",
    "}\n",
    "print(\"Calories in Kale:\", calories_per_100_gram[\"Kale\"])\n",
    "print(\"Calories in Mackarel:\", calories_per_100_gram[\"Mackarel\"])"
   ]
  },
  {
   "cell_type": "markdown",
   "metadata": {
    "collapsed": true
   },
   "source": [
    "#### Membership\n",
    "\n",
    "Sequence types allow you to check for membership. This means if the sequence contains a certain value. We can do this by using 'in'.\n",
    "\n",
    "```python\n",
    "variable_name in sequence\n",
    "```\n",
    "\n",
    "This will return True if the variable is in the sequence"
   ]
  },
  {
   "cell_type": "code",
   "execution_count": null,
   "metadata": {
    "collapsed": false
   },
   "outputs": [],
   "source": [
    "wallet = [100, 20, 20, 5, 1]\n",
    "\n",
    "# check if wallet contains certain dollar bills\n",
    "print(\"Contains 100:\", 100 in wallet)\n",
    "print(\"Contains 50:\", 50 in wallet)\n",
    "print(\"Contains 20:\", 20 in wallet)\n",
    "print(\"Contains 10:\", 10 in wallet)\n",
    "print(\"Contains 1:\", 1 in wallet)"
   ]
  },
  {
   "cell_type": "code",
   "execution_count": null,
   "metadata": {
    "collapsed": false
   },
   "outputs": [],
   "source": [
    "mobile_os = {\n",
    "    \"iphone 6\": \"ios\",\n",
    "    \"iphone 6s\": \"ios\",\n",
    "    \"iphone 7\": \"ios\",\n",
    "    \"nokia lumia\": \"windows mobile\",\n",
    "    \"samsung galaxy s7\": \"android\",\n",
    "    \"samsung galaxy s8\": \"android\",\n",
    "    \"nexus 5x\": \"android\"\n",
    "}\n",
    "\n",
    "# check if information is available about a certain phone\n",
    "my_phone = \"nexus 5x\"\n",
    "print(\n",
    "    \"Information available for\", \n",
    "    my_phone + \":\", \n",
    "    my_phone in mobile_os\n",
    ")"
   ]
  },
  {
   "cell_type": "code",
   "execution_count": null,
   "metadata": {
    "collapsed": true
   },
   "outputs": [],
   "source": []
  }
 ],
 "metadata": {
  "kernelspec": {
   "display_name": "Python 3",
   "language": "python",
   "name": "python3"
  },
  "language_info": {
   "codemirror_mode": {
    "name": "ipython",
    "version": 3
   },
   "file_extension": ".py",
   "mimetype": "text/x-python",
   "name": "python",
   "nbconvert_exporter": "python",
   "pygments_lexer": "ipython3",
   "version": "3.6.0"
  }
 },
 "nbformat": 4,
 "nbformat_minor": 0
}
