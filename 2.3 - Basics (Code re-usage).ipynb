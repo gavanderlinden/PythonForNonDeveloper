{
 "cells": [
  {
   "cell_type": "markdown",
   "metadata": {},
   "source": [
    "# Code re-usage\n",
    "\n",
    "You can achieve quite a lot by using a lot of if-else-statements and loops, self-thaught programmers or non-developers might tend to do this more. However, you really shouldn't. The last three basic concepts we need to know before we can start doing something useful are:\n",
    "- functions\n",
    "- classes\n",
    "- modules\n",
    "\n",
    "#### Functions\n",
    "\n",
    "The simplest function we can write is probably hello world. The function will just print hello world when you call it.\n",
    "\n",
    "```python\n",
    "# declare a function\n",
    "def hello_world():\n",
    "    print(\"hello world\")\n",
    "    \n",
    "# and then call it\n",
    "hello_world()\n",
    "```\n",
    "\n",
    "A function is a code block that you can re-use. For instance what we did above, checking if a name is Tony or Paul can also be done with a function. You can declare a function with 'def' + 'function name' + '():'. You can pass so called arguments (variables) to the function. To this put them between the brackets."
   ]
  },
  {
   "cell_type": "code",
   "execution_count": null,
   "metadata": {
    "collapsed": true
   },
   "outputs": [],
   "source": [
    "def test_name(name):\n",
    "    if name == \"Tony\":\n",
    "        print(\"Hello\", name)\n",
    "    elif name == \"Paul\":\n",
    "        print(\"Hello\", name)\n",
    "    else:\n",
    "        print(name, \"you are not Tony or Paul\")"
   ]
  },
  {
   "cell_type": "markdown",
   "metadata": {},
   "source": [
    "We now have a function which tests if a name is Tony or Paul. We can use this function like this:"
   ]
  },
  {
   "cell_type": "code",
   "execution_count": null,
   "metadata": {
    "collapsed": false
   },
   "outputs": [],
   "source": [
    "names = [\"Tony\", \"Paul\", \"Joey\"]\n",
    "for name in names:\n",
    "    test_name(name)"
   ]
  },
  {
   "cell_type": "markdown",
   "metadata": {},
   "source": [
    "Previously in lesson 2.1 we printed some values and their types, we can really simplify this with a function"
   ]
  },
  {
   "cell_type": "code",
   "execution_count": null,
   "metadata": {
    "collapsed": true
   },
   "outputs": [],
   "source": [
    "def print_type(value):\n",
    "    print(value, type(value))"
   ]
  },
  {
   "cell_type": "code",
   "execution_count": null,
   "metadata": {
    "collapsed": true
   },
   "outputs": [],
   "source": [
    "values = [\n",
    "    True, False, 32, 20.4, 10e6, [1, 2], (1, 2), range(10), \n",
    "    \"hello\", {1, 2}, {\"a\": 1, \"b\": 2}, type, None, b\"test\"\n",
    "]"
   ]
  },
  {
   "cell_type": "code",
   "execution_count": null,
   "metadata": {
    "collapsed": false
   },
   "outputs": [],
   "source": [
    "for value in values:\n",
    "    print_type(value)"
   ]
  },
  {
   "cell_type": "markdown",
   "metadata": {},
   "source": [
    "Simply said: in programming you don't want to repeat yourself, functions allow you to prevent that\n",
    "\n",
    "#### Classes\n",
    "\n",
    "Ok time to take the red pill.\n",
    "\n",
    "![alt text](data/images/red_and_blue_pill.jpg \"Title\")\n",
    "\n",
    "Ever heard of Object Oriented Programming? Well in Python everything is an object.\n",
    "\n",
    "![alt text](data/images/mind_blown.gif \"Title\")\n",
    "\n",
    "A class is the definition of an object and every instance of that class is an object. Which means everything you use in Python is defined as a class.\n",
    "\n",
    "- 1 is an object (also called instance) of class int\n",
    "- \"test\" is an object of class str\n",
    "\n",
    "Without getting to theoretical at this point let's look at how we can define a class and use it. You can declare a class with 'class' + 'class name' + '():'. You can pass so called arguments (variables) to the class. To this you need to define an \\__init__ function."
   ]
  },
  {
   "cell_type": "code",
   "execution_count": null,
   "metadata": {
    "collapsed": true
   },
   "outputs": [],
   "source": [
    "class Person(object):\n",
    "    \n",
    "    def __init__(self, name, age):\n",
    "        self.name = name\n",
    "        self.age = age\n",
    "    \n",
    "    def is_tony_or_paul(self):\n",
    "        if self.name == \"Tony\":\n",
    "            print(\"Hello\", self.name)\n",
    "        elif self.name == \"Paul\":\n",
    "            print(\"Hello\", self.name)\n",
    "        else:\n",
    "            print(\"I am not Tony or Paul, but:\", self.name)"
   ]
  },
  {
   "cell_type": "markdown",
   "metadata": {},
   "source": [
    "As we see above a class is a collection of functions and state. We define the functions (methods) like normal functions, however they always have an argument called self. The 'self' allows you to store 'state'. In this case the state of Person contains the name. We could change the name and get a different result from the same function:"
   ]
  },
  {
   "cell_type": "code",
   "execution_count": null,
   "metadata": {
    "collapsed": false
   },
   "outputs": [],
   "source": [
    "me = Person(\"Tony\", 31)\n",
    "me.name, me.age"
   ]
  },
  {
   "cell_type": "code",
   "execution_count": null,
   "metadata": {
    "collapsed": false
   },
   "outputs": [],
   "source": [
    "you = Person(\"Someone else\", 99)\n",
    "you.name, you.age"
   ]
  },
  {
   "cell_type": "markdown",
   "metadata": {},
   "source": [
    "As you might have notice, using the method we defined in our Person class is similar to using methods with strings.\n",
    "\n",
    "```python\n",
    "\"hello\".count(\"l\")\n",
    "```\n",
    "\n",
    "This is because \"hello\" is an instance of class string and 'count' is a method defined for class string. To understand this: a simplification of the str class we use could look like this:"
   ]
  },
  {
   "cell_type": "code",
   "execution_count": null,
   "metadata": {
    "collapsed": true
   },
   "outputs": [],
   "source": [
    "class MyString(object):\n",
    "\n",
    "    def __init__(self, text):\n",
    "        self.text = text\n",
    "    \n",
    "    def count(self, search_letter):\n",
    "        cnt = 0\n",
    "        for letter in self.text:\n",
    "            if letter == search_letter:\n",
    "                cnt += 1\n",
    "        \n",
    "        return cnt"
   ]
  },
  {
   "cell_type": "code",
   "execution_count": null,
   "metadata": {
    "collapsed": false
   },
   "outputs": [],
   "source": [
    "hello = MyString(\"hello\")\n",
    "hello.count(\"l\")"
   ]
  },
  {
   "cell_type": "markdown",
   "metadata": {},
   "source": [
    "You see now that the usage is the same as with a normal string. The actual class 'str' and basic types can be instantiated without calling the class directly. The simple reason for this is that you have to start somewhere; many very different languages also start with the same text characters."
   ]
  },
  {
   "cell_type": "markdown",
   "metadata": {},
   "source": [
    "#### Passing values to functions\n",
    "\n",
    "Passing variables to functions allows us to work with these variables within functions. Simply said: the input. There are two ways to pass variables to functions. By position and by name"
   ]
  },
  {
   "cell_type": "code",
   "execution_count": null,
   "metadata": {
    "collapsed": false
   },
   "outputs": [],
   "source": [
    "def func(a, b):\n",
    "    \n",
    "    # store original a\n",
    "    original_a = a\n",
    "    \n",
    "    # add 5 to a\n",
    "    a += 5\n",
    "    \n",
    "    # multiply a by b\n",
    "    print(\"Result:\", \"A:\", original_a, \"->\", a, \"B:\", b, \"Multiplied:\", a*b)"
   ]
  },
  {
   "cell_type": "code",
   "execution_count": null,
   "metadata": {
    "collapsed": false
   },
   "outputs": [],
   "source": [
    "func(1, 2)\n",
    "func(2, 1)\n",
    "func(5, 4)\n",
    "func(4, 5)"
   ]
  },
  {
   "cell_type": "markdown",
   "metadata": {},
   "source": [
    "The other way to pass arguments to a function is by name; so called 'keyword arguments' or 'kwargs'. Keyword arguments always have to be passed after positional arguments; however the order of keyword arguments is not important."
   ]
  },
  {
   "cell_type": "code",
   "execution_count": null,
   "metadata": {
    "collapsed": false
   },
   "outputs": [],
   "source": [
    "func(5, b=10)\n",
    "func(a=10, b=5)\n",
    "func(b=5, a=10)"
   ]
  },
  {
   "cell_type": "markdown",
   "metadata": {},
   "source": [
    "One other nifty feature of arguments is, that you can also set defaults for them. In case an argument has a default you don't necessarily need to provide it. This is especially useful if you have a function with a lot of possible arguments."
   ]
  },
  {
   "cell_type": "code",
   "execution_count": null,
   "metadata": {
    "collapsed": false
   },
   "outputs": [],
   "source": [
    "def func2(a, b=10):\n",
    "\n",
    "    # store original a\n",
    "    original_a = a\n",
    "    \n",
    "    # add 5 to a\n",
    "    a += 5\n",
    "    \n",
    "    # multiply a by b\n",
    "    print(\"Result:\", \"A:\", original_a, \"->\", a, \"B:\", b, \"Multiplied:\", a*b)"
   ]
  },
  {
   "cell_type": "code",
   "execution_count": null,
   "metadata": {
    "collapsed": false
   },
   "outputs": [],
   "source": [
    "func2(10, 5)\n",
    "func2(5)\n",
    "func2(10, b=10)"
   ]
  },
  {
   "cell_type": "markdown",
   "metadata": {
    "collapsed": true
   },
   "source": [
    "#### Passing values to classes\n",
    "\n",
    "Passing arguments to a class is very similar to passing to them to functions. You can pass arguments at instantiation and also when using a method. The first argument for class methods is 'self'. You have to declare 'self' as an argument but you don't need to pass it.\n",
    "\n",
    "For the arguments you want to pass to a class at instantiation you have to declare them in the \\__init__ method:"
   ]
  },
  {
   "cell_type": "code",
   "execution_count": null,
   "metadata": {
    "collapsed": true
   },
   "outputs": [],
   "source": [
    "class MyClass():\n",
    "\n",
    "    def __init__(self, a, b):\n",
    "        self.a = a\n",
    "        self.b = b"
   ]
  },
  {
   "cell_type": "code",
   "execution_count": null,
   "metadata": {
    "collapsed": false
   },
   "outputs": [],
   "source": [
    "my_class = MyClass(5, 10)\n",
    "print(my_class.a * my_class.b)"
   ]
  },
  {
   "cell_type": "markdown",
   "metadata": {},
   "source": [
    "Passing arguments to a method works the same as with a function, just don't forget 'self'"
   ]
  },
  {
   "cell_type": "code",
   "execution_count": null,
   "metadata": {
    "collapsed": true
   },
   "outputs": [],
   "source": [
    "class MyClass2():\n",
    "    \n",
    "    def __init__(self, a, b):\n",
    "        self.a = a\n",
    "        self.b = b\n",
    "    \n",
    "    def multiply(self, c):\n",
    "        print((self.a + self.b) * c)"
   ]
  },
  {
   "cell_type": "code",
   "execution_count": null,
   "metadata": {
    "collapsed": false
   },
   "outputs": [],
   "source": [
    "my_class2 = MyClass2(5, 10)\n",
    "my_class2.multiply(2)\n",
    "my_class2.multiply(c=4)"
   ]
  },
  {
   "cell_type": "markdown",
   "metadata": {},
   "source": [
    "#### Modules & Packages\n",
    "\n",
    "A module is a file consisting of Python code, a package is one or more Python modules. Python code in a module can simply be executed (run the code) like this:\n",
    "\n",
    "```bash\n",
    "python module_name.py\n",
    "```\n",
    "\n",
    "If we want to use the code we can import it:\n",
    "\n",
    "```python\n",
    "import module_name\n",
    "```\n",
    "\n",
    "Python by default ships with many packages, we call this the standard library (stdlib). It is important to get to know these packages and use them, instead of writing all code by yourself. This is a mistake a lot of beginners are making, and one we want to avoid.\n",
    "\n",
    "Anaconda is a scientific distribution of Python and comes with even more packages.\n",
    "\n",
    "And... there are even many more packages which we can install, mostly like this:\n",
    "\n",
    "```bash\n",
    "# pip is a package management system\n",
    "# Pip Installs Packages (PIP)\n",
    "pip install package_name\n",
    "```\n",
    "\n",
    "Let's important some packages!"
   ]
  },
  {
   "cell_type": "markdown",
   "metadata": {},
   "source": [
    "#### Datetime"
   ]
  },
  {
   "cell_type": "code",
   "execution_count": null,
   "metadata": {
    "collapsed": false
   },
   "outputs": [],
   "source": [
    "import datetime\n",
    "\n",
    "now = datetime.datetime.now()\n",
    "print(now, type(now))"
   ]
  },
  {
   "cell_type": "markdown",
   "metadata": {},
   "source": [
    "We have now imported the datetime package. The datetime package contains a module which is also called 'datetime', which declares a function called 'now'. To call this function we have to call the package, the module and the function:\n",
    "\n",
    "- package_name.module_name.function_name()\n",
    "- datetime.datetime.now()\n",
    "\n",
    "The datetime package makes it easy to work with dates, if you have a date, make it a datetime!"
   ]
  },
  {
   "cell_type": "code",
   "execution_count": null,
   "metadata": {
    "collapsed": false
   },
   "outputs": [],
   "source": [
    "# define a unit of time, so called timedelta\n",
    "one_day = datetime.timedelta(days=1)\n",
    "\n",
    "# add one day to now to get tomorrow\n",
    "tomorrow = now + one_day\n",
    "\n",
    "# find out which week day tomorrow is\n",
    "day_number_to_day_name = {\n",
    "    1: \"Monday\", 2: \"Tuesday\", 3: \"Wednesday\", 4: \"Thursday\",\n",
    "    5: \"Friday\", 6: \"Saturday\", 7: \"Sunday\"\n",
    "}\n",
    "day_number = tomorrow.isoweekday()\n",
    "print(\"Tomorrow is:\", day_number_to_day_name[day_number])"
   ]
  },
  {
   "cell_type": "code",
   "execution_count": null,
   "metadata": {
    "collapsed": false
   },
   "outputs": [],
   "source": [
    "# let's find out how many days there are until christmas\n",
    "this_year = now.year  # find out which year it is\n",
    "christmas = datetime.datetime(this_year, 12, 25)\n",
    "time_until_christmas = (christmas - now).days\n",
    "\n",
    "if time_until_christmas > 0:\n",
    "    print(time_until_christmas, \"days until Christmas\")\n",
    "elif time_until_christmas == 0:\n",
    "    print(\"Happy Christmas!\")\n",
    "else:\n",
    "    print(\"Christmas was\", abs(time_until_christmas), \"days ago.\")"
   ]
  },
  {
   "cell_type": "markdown",
   "metadata": {},
   "source": [
    "#### Time\n",
    "\n",
    "There is also a time package. There are similarities with the datetime package, but if we just care about time we prefer the time package.\n",
    "\n",
    "Time is counted as seconds from the 1st of January, 1970."
   ]
  },
  {
   "cell_type": "code",
   "execution_count": null,
   "metadata": {
    "collapsed": false
   },
   "outputs": [],
   "source": [
    "import time\n",
    "\n",
    "# time as seconds from the 1st of January, 1970 \n",
    "start_time = time.time()\n",
    "time.sleep(2)  # sleep for two seconds\n",
    "print(\n",
    "    \"Time that has passed since the start time:\",\n",
    "    time.time() - start_time\n",
    ")"
   ]
  },
  {
   "cell_type": "code",
   "execution_count": null,
   "metadata": {
    "collapsed": false
   },
   "outputs": [],
   "source": [
    "# repeat an operation every second for ten seconds\n",
    "start_time = time.time()\n",
    "while True:\n",
    "    print(\"Doing something\")\n",
    "    time.sleep(1)\n",
    "    time_passed = time.time() - start_time\n",
    "    print(\"Time passed:\", time_passed)\n",
    "\n",
    "    # stop this loop after 10 seconds\n",
    "    if time_passed >= 10:\n",
    "        break"
   ]
  },
  {
   "cell_type": "markdown",
   "metadata": {},
   "source": [
    "#### Re\n",
    "\n",
    "The 're' package is the standard lib implementation of regular expressions. Regular expressions are a way to express text in an abstract form. Practically it lets us find, extract, replace text in very way.\n",
    "\n",
    "Since regular expressions are a whole different topic of their own, I will just give some examples of how you can use them."
   ]
  },
  {
   "cell_type": "code",
   "execution_count": null,
   "metadata": {
    "collapsed": true
   },
   "outputs": [],
   "source": [
    "import re"
   ]
  },
  {
   "cell_type": "code",
   "execution_count": null,
   "metadata": {
    "collapsed": true
   },
   "outputs": [],
   "source": [
    "text = \"\"\"\n",
    "The 're' package is the standard lib implementation of regular expressions. Regular expressions are a way to express text in an abstract form. Practically it lets us find, extract, replace text in very way.\n",
    "\n",
    "Since regular expressions are a whole different topic of their own, I will just give some examples of how you can use them.\n",
    "\"\"\""
   ]
  },
  {
   "cell_type": "code",
   "execution_count": null,
   "metadata": {
    "collapsed": false
   },
   "outputs": [],
   "source": [
    "# find sentence starting with Practically\n",
    "re.search(\"Practically.+\\.\", text).group()"
   ]
  },
  {
   "cell_type": "code",
   "execution_count": null,
   "metadata": {
    "collapsed": false
   },
   "outputs": [],
   "source": [
    "# get all words\n",
    "all_words = re.findall(\"\\w+\", text)\n",
    "all_words[0:5]  # show first five words"
   ]
  },
  {
   "cell_type": "code",
   "execution_count": null,
   "metadata": {
    "collapsed": false
   },
   "outputs": [],
   "source": [
    "# replace all words preceeded by 'the' or 'a' with 'secret'\n",
    "changed_text = re.sub(\"(the|a) \\w+\", \"\\\\1 secret\", text)\n",
    "print(changed_text)"
   ]
  },
  {
   "cell_type": "code",
   "execution_count": null,
   "metadata": {
    "collapsed": false
   },
   "outputs": [],
   "source": [
    "import requests\n",
    "from IPython.core.display import HTML\n",
    "\n",
    "response = requests.get(\"http://www.google.com\")\n",
    "HTML(response.text)"
   ]
  },
  {
   "cell_type": "code",
   "execution_count": null,
   "metadata": {
    "collapsed": true
   },
   "outputs": [],
   "source": []
  }
 ],
 "metadata": {
  "kernelspec": {
   "display_name": "Python 3",
   "language": "python",
   "name": "python3"
  },
  "language_info": {
   "codemirror_mode": {
    "name": "ipython",
    "version": 3
   },
   "file_extension": ".py",
   "mimetype": "text/x-python",
   "name": "python",
   "nbconvert_exporter": "python",
   "pygments_lexer": "ipython3",
   "version": "3.6.0"
  }
 },
 "nbformat": 4,
 "nbformat_minor": 0
}
