{
 "cells": [
  {
   "cell_type": "markdown",
   "metadata": {},
   "source": [
    "# Python is a general purpose programming language\n",
    "\n",
    "Actually most programming languages are general purpose. Even though some languages are dominant in software engineering, this top 20 from the TIOBE Index covers the mostly used language quite well. Reasons why you would use one of these languages are mostly based on three things:\n",
    "\n",
    "* speed of the language ( how long does it take your hardware to execute the code )\n",
    "* ease of writing code ( how long does it take you to write the code and how much code do you have to write )\n",
    "* implementation ( is the code easy to understand for others, can it be tested, how do you deploy the code )"
   ]
  },
  {
   "cell_type": "markdown",
   "metadata": {},
   "source": [
    "<table class=\"table table-striped table-top20\">\n",
    "<thead><tr>\n",
    "<th>Feb 2017</th>\n",
    "<th>Feb 2016</th>\n",
    "<th>Change</th>\n",
    "<th>Programming Language</th>\n",
    "<th>Ratings</th>\n",
    "<th>Change</th>\n",
    "</tr></thead>\n",
    "<tbody>\n",
    "<tr><td>1</td><td>1</td><td></td><td>Java</td><td>16.676%</td><td>-4.47%</td></tr><tr><td>2</td><td>2</td><td></td><td>C</td><td>8.445%</td><td>-7.15%</td></tr><tr><td>3</td><td>3</td><td></td><td>C++</td><td>5.429%</td><td>-1.48%</td></tr><tr><td>4</td><td>4</td><td></td><td>C#</td><td>4.902%</td><td>+0.50%</td></tr><tr><td>5</td><td>5</td><td></td><td>Python</td><td>4.043%</td><td>-0.14%</td></tr><tr><td>6</td><td>6</td><td></td><td>PHP</td><td>3.072%</td><td>+0.30%</td></tr><tr><td>7</td><td>9</td><td></td><td>JavaScript</td><td>2.872%</td><td>+0.67%</td></tr><tr><td>8</td><td>7</td><td></td><td>Visual Basic .NET</td><td>2.824%</td><td>+0.37%</td></tr><tr><td>9</td><td>10</td><td></td><td>Delphi/Object Pascal</td><td>2.479%</td><td>+0.32%</td></tr><tr><td>10</td><td>8</td><td></td><td>Perl</td><td>2.171%</td><td>-0.08%</td></tr><tr><td>11</td><td>11</td><td></td><td>Ruby</td><td>2.153%</td><td>+0.10%</td></tr><tr><td>12</td><td>16</td><td></td><td>Swift</td><td>2.125%</td><td>+0.75%</td></tr><tr><td>13</td><td>13</td><td></td><td>Assembly language</td><td>2.107%</td><td>+0.28%</td></tr><tr><td>14</td><td>38</td><td></td><td>Go</td><td>2.105%</td><td>+1.81%</td></tr><tr><td>15</td><td>17</td><td></td><td>R</td><td>1.922%</td><td>+0.73%</td></tr><tr><td>16</td><td>12</td><td></td><td>Visual Basic</td><td>1.875%</td><td>+0.02%</td></tr><tr><td>17</td><td>18</td><td></td><td>MATLAB</td><td>1.723%</td><td>+0.63%</td></tr><tr><td>18</td><td>19</td><td></td><td>PL/SQL</td><td>1.549%</td><td>+0.49%</td></tr><tr><td>19</td><td>14</td><td></td><td>Objective-C</td><td>1.536%</td><td>+0.13%</td></tr><tr><td>20</td><td>23</td><td></td><td>Scratch</td><td>1.500%</td><td>+0.71%</td></tr>\n",
    "</tbody>\n",
    "</table>"
   ]
  },
  {
   "cell_type": "markdown",
   "metadata": {},
   "source": [
    "#### Speed of the language\n",
    "The speed of a language is not easy to compare. There are many benchmarks that compare the time it takes to execute code that does the same thing. Many of these benchmarks do not have anything to do with the things we learn in this course. http://benchmarksgame.alioth.debian.org/u64q/python.html\n",
    "\n",
    "For this course it only matters if it is 'fast enough' aka 'not too slow'. Good news: mostly it's fast! Consider this: \n",
    "- your application runs twice as slow as the time it takes you to do it manually, isn't that still an improvement?\n",
    "\n",
    "#### Ease of writing code\n",
    "Another kind of speed is how long it takes to write code and how many lines of code you have to write (normally these two correlate, if you have to write less code, you can write it faster). This is where Python really shines. Python code is relatively short, and Python has hardly an boilerplate ( code that is just there because the language requires it ). For instance the 'hello world' application:\n",
    "\n",
    "###### Java 8\n",
    "\n",
    "```java\n",
    "/* Hello World! program in Java 8 */\n",
    "\n",
    "public class HelloWorld {\n",
    "   public static void main(String[] args) {\n",
    "      System.out.println(\"Hello World\");\n",
    "   }\n",
    "}\n",
    "```\n",
    "    \n",
    "###### Python 3\n",
    "\n",
    "```python\n",
    "# Hello World! program in Python 3\n",
    "\n",
    "print(\"hello World\")\n",
    "```\n",
    "\n",
    "Consider this:\n",
    "- if you code something in 8 hours that runs in 10 seconds, would you instead prefer to write code for 16 hours so that your application runs in 5 seconds? or maybe even 1?\n",
    "\n",
    "#### Implementation\n",
    "Also implementation is a kind of speed: how well does it scale? how well can you collaborate with others? how often do you have to fix errors and how easy is it too find out what is wrong?\n",
    "\n",
    "For the contents of this course only fixing and finding errors is important.\n",
    "\n",
    "#### Language wars\n",
    "These topics are the basis of lengthy discussions about why one language is better than others. In general we can say that Python is a widely used language in many big tech savvy companies (Google, Dropbox, Youtube, Yelp, Reddit, SurveyMonkey, Mozilla, Eventbrite), and can be used for many purposes (web, apis, data analysis, scripting, number crunching, nlp, embedded etc.)\n",
    "\n",
    "For the contents of this course we will refrain from evaluating which programming languages is better for a certain purpose.\n",
    "\n",
    "But just to clarify, the version of Python we use is CPython. CPython is written in C, and sometimes also uses Fortran libraries. If we want to do web stuff at one point or another we will have to use Javascript. Most modern apis now use json (javascript object notation) so being a Python purist is anyway not an option."
   ]
  },
  {
   "cell_type": "markdown",
   "metadata": {},
   "source": [
    "# Important to know \n",
    "\n",
    "Just some last stuff that is important to know before we get started\n",
    "\n",
    "Python code can simply be store in a normal text file with the extension:\n",
    "- .py (hello_world.py)\n",
    "\n",
    "Python code is compiled at run-time, which means you can just execute the code:\n",
    "- python hello_world.py\n",
    "\n",
    "My favorite IDE is PyCharm ( integrated development environment ), however we will be using Notebooks or else Spyder which comes with Anaconda.\n",
    "\n",
    "Anaconda is a curated collection of Python libraries for scientific programming. We use this because it will give you all packages and makes it very easy to get started, especially on Windows."
   ]
  },
  {
   "cell_type": "code",
   "execution_count": null,
   "metadata": {
    "collapsed": true
   },
   "outputs": [],
   "source": []
  }
 ],
 "metadata": {
  "kernelspec": {
   "display_name": "Python 3",
   "language": "python",
   "name": "python3"
  },
  "language_info": {
   "codemirror_mode": {
    "name": "ipython",
    "version": 3
   },
   "file_extension": ".py",
   "mimetype": "text/x-python",
   "name": "python",
   "nbconvert_exporter": "python",
   "pygments_lexer": "ipython3",
   "version": "3.6.0"
  }
 },
 "nbformat": 4,
 "nbformat_minor": 2
}
