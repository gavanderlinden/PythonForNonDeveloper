{
 "cells": [
  {
   "cell_type": "markdown",
   "metadata": {},
   "source": [
    "![alt text](data/images/mr_clean.jpg \"Title\")\n",
    "\n",
    "#### Project\n",
    "\n",
    "We are going to make a simple kitchen duty scheduler. First we are going to define the components of this project\n",
    "\n",
    "#### Components\n",
    "- define the cleaning crew\n",
    "- time period for the schedule\n",
    "- check if for a date if someone needs to clean\n",
    "- assign people to days"
   ]
  },
  {
   "cell_type": "code",
   "execution_count": null,
   "metadata": {
    "collapsed": true
   },
   "outputs": [],
   "source": [
    "# we just define a list with names\n",
    "ONLINE_MARKETING_TEAM = [\n",
    "    \"Max Wölfle\",\n",
    "    \"Tony van der Linden\",\n",
    "    \"Christian Schulz\",\n",
    "    \"Tobias Esser\",\n",
    "    \"Fabian Reißmüller\",\n",
    "    \"Yvonne Kohnle\",\n",
    "    \"Johannes Burkhardt\",\n",
    "    \"Nicolas Mutter\",\n",
    "    \"Martin Kase\",\n",
    "    \"Sascia Burri\",\n",
    "    \"Patricia Tchorzewski\"\n",
    "]"
   ]
  },
  {
   "cell_type": "code",
   "execution_count": null,
   "metadata": {
    "collapsed": false
   },
   "outputs": [],
   "source": [
    "# when working with dates and/or times often you will use the datetime module\n",
    "import datetime\n",
    "\n",
    "# variables we don't want to change we right in capitals\n",
    "# this is not needed, but it's good style\n",
    "# we call these 'static variables'\n",
    "\n",
    "# We create a datetime object starting at the 1st of April 2017\n",
    "START_DATE = datetime.datetime(2017, 4, 1)\n",
    "\n",
    "# We create a datetime object starting at the 1st of May 2017\n",
    "END_DATE = datetime.datetime(2017, 5, 1)\n",
    "\n",
    "# we create a time delta of 1 day, a time delta is a unit of time\n",
    "DAY = datetime.timedelta(days=1)"
   ]
  },
  {
   "cell_type": "code",
   "execution_count": null,
   "metadata": {
    "collapsed": true
   },
   "outputs": [],
   "source": [
    "# function to check if cleaning needs to be done\n",
    "def is_cleaning_needed(date):\n",
    "\n",
    "    # isoweekday: 1 is Monday, 6 is Saturday and 7 is Sunday\n",
    "    if date.isoweekday() in (6, 7):\n",
    "        return False\n",
    "    \n",
    "    # 14th of April is Good Friday\n",
    "    if date == datetime.datetime(2017, 4, 14):\n",
    "        return False\n",
    "\n",
    "    # 17th of April is Easter Monday\n",
    "    if date == datetime.datetime(2017, 4, 17):\n",
    "        return False\n",
    "    \n",
    "    return True"
   ]
  },
  {
   "cell_type": "code",
   "execution_count": null,
   "metadata": {
    "collapsed": false
   },
   "outputs": [],
   "source": [
    "date = START_DATE\n",
    "while date < END_DATE:\n",
    "    \n",
    "    # evaluate if we need to clean\n",
    "    cleaning_needed = is_cleaning_needed(date)\n",
    "    \n",
    "    # display date and decision\n",
    "    print(date, cleaning_needed)\n",
    "    \n",
    "    # we need to add a day to date because else we keep evaluating the same date indefinitely (infinite loop)\n",
    "    date = date + DAY"
   ]
  },
  {
   "cell_type": "code",
   "execution_count": null,
   "metadata": {
    "collapsed": true
   },
   "outputs": [],
   "source": [
    "# if we want to randomize something we use the random module\n",
    "# in this case we pick a random team member from the list\n",
    "import random\n",
    "def assign_person():\n",
    "    random_person = random.choice(ONLINE_MARKETING_TEAM)\n",
    "\n",
    "    return random_person"
   ]
  },
  {
   "cell_type": "code",
   "execution_count": null,
   "metadata": {
    "collapsed": false
   },
   "outputs": [],
   "source": [
    "date = START_DATE\n",
    "while date < END_DATE:\n",
    "    \n",
    "    # evaluate if we need to clean\n",
    "    cleaning_needed = is_cleaning_needed(date)\n",
    "    \n",
    "    # if cleaning is needed, assign a person\n",
    "    if cleaning_needed:\n",
    "        random_person = assign_person()\n",
    "    else:\n",
    "        random_person = \"\"\n",
    "    \n",
    "    # display date and decision and responsible person\n",
    "    print(date, cleaning_needed, random_person)\n",
    "    \n",
    "    # we need to add a day to date because else we keep evaluating the same date indefinitely (infinite loop)\n",
    "    date = date + DAY"
   ]
  },
  {
   "cell_type": "code",
   "execution_count": null,
   "metadata": {
    "collapsed": true
   },
   "outputs": [],
   "source": [
    "# we can also assign two people\n",
    "def assign_persons():\n",
    "    random_persons = random.choices(ONLINE_MARKETING_TEAM, k=2)\n",
    "\n",
    "    return random_persons"
   ]
  },
  {
   "cell_type": "code",
   "execution_count": null,
   "metadata": {
    "collapsed": false
   },
   "outputs": [],
   "source": [
    "date = START_DATE\n",
    "while date < END_DATE:\n",
    "    \n",
    "    # evaluate if we need to clean\n",
    "    cleaning_needed = is_cleaning_needed(date)\n",
    "    \n",
    "    # if cleaning is needed, assign two persons\n",
    "    if cleaning_needed:\n",
    "        random_persons = assign_persons()\n",
    "    else:\n",
    "        random_persons = \"\"\n",
    "    \n",
    "    # display date and decision and responsible person\n",
    "    print(date, cleaning_needed, random_persons)\n",
    "    \n",
    "    # we need to add a day to date because else we keep evaluating the same date indefinitely (infinite loop)\n",
    "    date = date + DAY"
   ]
  },
  {
   "cell_type": "code",
   "execution_count": null,
   "metadata": {
    "collapsed": true
   },
   "outputs": [],
   "source": [
    "# we can also assign weights so some people have to clean more often\n",
    "def assign_persons():\n",
    "    \n",
    "    weights = [1000, 1, 1, 1, 1, 1, 1, 1, 1, 1, 1]\n",
    "\n",
    "    random_persons = random.choices(ONLINE_MARKETING_TEAM, weights=weights, k=2)\n",
    "\n",
    "    return random_persons"
   ]
  },
  {
   "cell_type": "code",
   "execution_count": null,
   "metadata": {
    "collapsed": false
   },
   "outputs": [],
   "source": [
    "date = START_DATE\n",
    "while date < END_DATE:\n",
    "    \n",
    "    # evaluate if we need to clean\n",
    "    cleaning_needed = is_cleaning_needed(date)\n",
    "    \n",
    "    # if cleaning is needed, assign a person\n",
    "    if cleaning_needed:\n",
    "        random_persons = assign_persons()\n",
    "    else:\n",
    "        random_persons = \"\"\n",
    "    \n",
    "    # display date and decision and responsible person\n",
    "    print(date, cleaning_needed, random_persons)\n",
    "    \n",
    "    # we need to add a day to date because else we keep evaluating the same date indefinitely (infinite loop)\n",
    "    date = date + DAY"
   ]
  },
  {
   "cell_type": "code",
   "execution_count": null,
   "metadata": {
    "collapsed": false
   },
   "outputs": [],
   "source": [
    "# make sure we always assign two different people\n",
    "def assign_persons():\n",
    "    \n",
    "    weights = [1000, 1, 1, 1, 1, 1, 1, 1, 1, 1, 1]\n",
    "    \n",
    "    # we will loop until we get two different people\n",
    "    while True:\n",
    "        random_person_one, random_person_two = random.choices(ONLINE_MARKETING_TEAM, weights=weights, k=2)\n",
    "        if random_person_one != random_person_two:\n",
    "            return (random_person_one, random_person_two)"
   ]
  },
  {
   "cell_type": "code",
   "execution_count": null,
   "metadata": {
    "collapsed": false
   },
   "outputs": [],
   "source": [
    "date = START_DATE\n",
    "while date < END_DATE:\n",
    "    \n",
    "    # evaluate if we need to clean\n",
    "    cleaning_needed = is_cleaning_needed(date)\n",
    "    \n",
    "    # if cleaning is needed, assign a person\n",
    "    if cleaning_needed:\n",
    "        random_persons = assign_persons()\n",
    "    else:\n",
    "        random_persons = \"\"\n",
    "    \n",
    "    # display date and decision and responsible person\n",
    "    print(date, cleaning_needed, random_persons)\n",
    "    \n",
    "    # we need to add a day to date because else we keep evaluating the same date indefinitely (infinite loop)\n",
    "    date = date + DAY"
   ]
  },
  {
   "cell_type": "markdown",
   "metadata": {},
   "source": [
    "it still seems if some people have to clean more often than others...\n",
    "\n",
    "One thing we could do is keep track of the weights and increase the weight with 1 when someone hasn't done kitchen duty. When someone does kitchen duty we reduce the weight by 4 to keep some balance in the weights.\n",
    "- -4 * 2 for two team members\n",
    "- +1 * 9 for other team members"
   ]
  },
  {
   "cell_type": "code",
   "execution_count": null,
   "metadata": {
    "collapsed": false
   },
   "outputs": [],
   "source": [
    "# let's combine the weights in a dictionary:\n",
    "team_members_and_weights = {member: 1 for member in ONLINE_MARKETING_TEAM}\n",
    "team_members_and_weights"
   ]
  },
  {
   "cell_type": "code",
   "execution_count": null,
   "metadata": {
    "collapsed": true
   },
   "outputs": [],
   "source": [
    "# make sure we always assign two different people\n",
    "def assign_persons(members, weights):\n",
    "    \n",
    "    # we will loop until we get two different people\n",
    "    while True:\n",
    "        random_person_one, random_person_two = random.choices(list(members), weights=list(weights), k=2)\n",
    "        if random_person_one != random_person_two:\n",
    "            return (random_person_one, random_person_two)"
   ]
  },
  {
   "cell_type": "code",
   "execution_count": null,
   "metadata": {
    "collapsed": false
   },
   "outputs": [],
   "source": [
    "# let's count how often each member does kitchen duty\n",
    "cleaning_score = {member: 0 for member in ONLINE_MARKETING_TEAM}\n",
    "\n",
    "date = START_DATE\n",
    "while date < END_DATE:\n",
    "    \n",
    "    # evaluate if we need to clean\n",
    "    cleaning_needed = is_cleaning_needed(date)\n",
    "    \n",
    "    # if cleaning is needed, assign a person\n",
    "    if cleaning_needed:\n",
    "        random_persons = assign_persons(\n",
    "            team_members_and_weights.keys(),\n",
    "            team_members_and_weights.values()\n",
    "        )  # now we pass the members and their weights\n",
    "\n",
    "        # and now we need to update the weights\n",
    "        # every one that didn't clean gets +1\n",
    "        # people that cleaned are set to 1\n",
    "        for team_member in team_members_and_weights:\n",
    "            if team_member in random_persons:\n",
    "                team_members_and_weights[team_member] -= 4\n",
    "                cleaning_score[team_member] += 1\n",
    "            else:\n",
    "                team_members_and_weights[team_member] += 1\n",
    "    else:\n",
    "        random_persons = \"\"\n",
    "    \n",
    "    # display date and decision and responsible person\n",
    "    print(date, cleaning_needed, random_persons)\n",
    "\n",
    "    # we need to add a day to date because else we keep evaluating the same date indefinitely (infinite loop)\n",
    "    date = date + DAY"
   ]
  },
  {
   "cell_type": "code",
   "execution_count": null,
   "metadata": {
    "collapsed": false
   },
   "outputs": [],
   "source": [
    "# Let's see what we end up with\n",
    "# Run the above cells a couple of times and check how the scores change\n",
    "team_members_and_weights, cleaning_score"
   ]
  },
  {
   "cell_type": "markdown",
   "metadata": {},
   "source": [
    "In general this strategy works, and is more or less fair if we keep track of the weights.\n",
    "\n",
    "Let's try a more logical approach"
   ]
  },
  {
   "cell_type": "code",
   "execution_count": null,
   "metadata": {
    "collapsed": true
   },
   "outputs": [],
   "source": [
    "def random_person(team):\n",
    "    # make sure team is not empty\n",
    "    if not team:\n",
    "        team = ONLINE_MARKETING_TEAM.copy()\n",
    "\n",
    "    random.shuffle(team)\n",
    "\n",
    "    random_person = team.pop()\n",
    "\n",
    "    return team, random_person"
   ]
  },
  {
   "cell_type": "code",
   "execution_count": null,
   "metadata": {
    "collapsed": true
   },
   "outputs": [],
   "source": [
    "# make sure we always assign two different people\n",
    "def assign_persons(team):\n",
    "\n",
    "    # we will loop until we get two different people\n",
    "    team, random_person_one = random_person(team)\n",
    "    while True:\n",
    "        team, random_person_two = random_person(team)\n",
    "        if random_person_one == random_person_two:\n",
    "            team.append(random_person_two)\n",
    "        else:\n",
    "            return team, (random_person_one, random_person_two)"
   ]
  },
  {
   "cell_type": "code",
   "execution_count": null,
   "metadata": {
    "collapsed": false
   },
   "outputs": [],
   "source": [
    "date = START_DATE\n",
    "team = None\n",
    "cleaning_score = {member: 0 for member in ONLINE_MARKETING_TEAM}\n",
    "\n",
    "while date < END_DATE:\n",
    "    \n",
    "    # evaluate if we need to clean\n",
    "    cleaning_needed = is_cleaning_needed(date)\n",
    "    \n",
    "    # if cleaning is needed, assign a person\n",
    "    if cleaning_needed:\n",
    "        team, random_persons = assign_persons(team)\n",
    "        for person in random_persons:\n",
    "            cleaning_score[person] += 1\n",
    "    else:\n",
    "        random_persons = \"\"\n",
    "    \n",
    "    # display date and decision and responsible person\n",
    "    print(date, cleaning_needed, random_persons)\n",
    "\n",
    "    # we need to add a day to date because else we keep evaluating the same date indefinitely (infinite loop)\n",
    "    date = date + DAY"
   ]
  },
  {
   "cell_type": "code",
   "execution_count": null,
   "metadata": {
    "collapsed": false
   },
   "outputs": [],
   "source": [
    "cleaning_score"
   ]
  },
  {
   "cell_type": "markdown",
   "metadata": {},
   "source": [
    "#### keeping state\n",
    "In the approach above we had to keep passing the 'team' variable to the different functions to keep track of the state. Whenever we need to store state, using a class is a good way to go.\n",
    "\n",
    "The variables in a class are stored under self. This is why it is required to always declare the class function with the argument 'self'. When calling the function 'self' is automatically passed.\n",
    "\n",
    "Instead of calling the function like this:\n",
    "\n",
    "```python\n",
    "is_cleaning_needed(self)\n",
    "```\n",
    "\n",
    "We called it like this:\n",
    "\n",
    "```python\n",
    "self.is_cleaning_needed()\n",
    "```\n",
    "\n",
    "Any further arguments you would again put in the brackets and declare after self.\n",
    "\n",
    "#### Let's re-write all the code in one class"
   ]
  },
  {
   "cell_type": "code",
   "execution_count": null,
   "metadata": {
    "collapsed": true
   },
   "outputs": [],
   "source": [
    "class KitchenDutyPlanner(object):\n",
    "    \n",
    "    def __init__(self):\n",
    "        self.date = datetime.datetime(2017, 4, 1)\n",
    "        self.end_date = datetime.datetime(2017, 5, 1)\n",
    "        self.day = datetime.timedelta(days=1)\n",
    "        self.team = None\n",
    "        self.cleaning_score = {member: 0 for member in ONLINE_MARKETING_TEAM}\n",
    "    \n",
    "    # make the plan\n",
    "    def make_plan(self):\n",
    "        while self.date < self.end_date:\n",
    "            \n",
    "            # check if cleaning is needed\n",
    "            cleaning_needed = self.is_cleaning_needed()\n",
    "            \n",
    "            # if cleaning is needed assign two persons\n",
    "            if cleaning_needed:\n",
    "                random_persons = self.assign_persons()\n",
    "                \n",
    "                # we keep count of who was assigned cleaning duty\n",
    "                for person in random_persons:\n",
    "                    self.cleaning_score[person] += 1\n",
    "            else:\n",
    "                # set random persons to nothing if cleaning not needed\n",
    "                random_persons = \"\"\n",
    "\n",
    "            # display date and decision and responsible persons\n",
    "            print(self.date, cleaning_needed, random_persons)\n",
    "\n",
    "            self.date = self.date + self.day\n",
    "    \n",
    "    # check if cleaning is needed for the current date\n",
    "    def is_cleaning_needed(self):\n",
    "\n",
    "        # isoweekday: 1 is Monday, 6 is Saturday and 7 is Sunday\n",
    "        if self.date.isoweekday() in (6, 7):\n",
    "            return False\n",
    "\n",
    "        # 14th of April is Good Friday\n",
    "        if self.date == datetime.datetime(2017, 4, 14):\n",
    "            return False\n",
    "\n",
    "        # 17th of April is Easter Monday\n",
    "        if self.date == datetime.datetime(2017, 4, 17):\n",
    "            return False\n",
    "\n",
    "        return True\n",
    "    \n",
    "    # get two different random persons\n",
    "    def assign_persons(self):\n",
    "        random_person_one = self.get_random_person()\n",
    "\n",
    "        # loop until we have two different people for kitchen duty\n",
    "        # can happen if list was empty and a new copy was made\n",
    "        while True:\n",
    "            random_person_two = self.get_random_person()\n",
    "            if random_person_one == random_person_two:\n",
    "                self.team.append(random_person_two)\n",
    "            else:\n",
    "                break  # stops the loop\n",
    "        \n",
    "        return (random_person_one, random_person_two)\n",
    "    \n",
    "    # get a random person from self.team\n",
    "    def get_random_person(self):\n",
    "        # make sure self.team is not empty\n",
    "        if not self.team:\n",
    "            self.team = ONLINE_MARKETING_TEAM.copy()\n",
    "        random.shuffle(self.team)\n",
    "        \n",
    "        random_person = self.team.pop()\n",
    "        \n",
    "        return random_person"
   ]
  },
  {
   "cell_type": "code",
   "execution_count": null,
   "metadata": {
    "collapsed": true
   },
   "outputs": [],
   "source": [
    "planner = KitchenDutyPlanner()"
   ]
  },
  {
   "cell_type": "code",
   "execution_count": null,
   "metadata": {
    "collapsed": false
   },
   "outputs": [],
   "source": [
    "planner.make_plan()"
   ]
  },
  {
   "cell_type": "code",
   "execution_count": null,
   "metadata": {
    "collapsed": false
   },
   "outputs": [],
   "source": [
    "planner.cleaning_score"
   ]
  },
  {
   "cell_type": "code",
   "execution_count": null,
   "metadata": {
    "collapsed": false
   },
   "outputs": [],
   "source": [
    "# let's have a look at the dates\n",
    "planner.date, planner.end_date"
   ]
  },
  {
   "cell_type": "markdown",
   "metadata": {},
   "source": [
    "We see that the start date is now equal to the end date."
   ]
  },
  {
   "cell_type": "code",
   "execution_count": null,
   "metadata": {
    "collapsed": false
   },
   "outputs": [],
   "source": [
    "# to make a plan for May, we set the end_date to 1st of June\n",
    "planner.end_date = datetime.datetime(2017, 6, 1)"
   ]
  },
  {
   "cell_type": "code",
   "execution_count": null,
   "metadata": {
    "collapsed": false
   },
   "outputs": [],
   "source": [
    "planner.make_plan()"
   ]
  },
  {
   "cell_type": "code",
   "execution_count": null,
   "metadata": {
    "collapsed": false
   },
   "outputs": [],
   "source": [
    "planner.cleaning_score"
   ]
  },
  {
   "cell_type": "markdown",
   "metadata": {},
   "source": [
    "We see the cleaning duties are now equally divided, and we also have a system to assign kitchen duty fairly in subsequent months. We could add additional functionality like saving the current state of the KitchenDutyPlanner and a cleaner way to set self.date and self.end_date.\n",
    "\n",
    "Writing a class can be complicated, a good way of writing a class is first defining the structure of a class without writing the actual class functions except for '\\__init__'.\n",
    "\n",
    "```python\n",
    "class KitchenDutyPlanner(object):\n",
    "    \n",
    "    def __init__(self):\n",
    "        self.date = datetime.datetime(2017, 4, 1)\n",
    "        self.end_date = datetime.datetime(2017, 5, 1)\n",
    "        self.day = datetime.timedelta(days=1)\n",
    "        self.team = None\n",
    "        self.cleaning_score = {member: 0 for member in ONLINE_MARKETING_TEAM}\n",
    "    \n",
    "    # make the plan\n",
    "    def make_plan(self):\n",
    "        pass\n",
    "    \n",
    "    # check if cleaning is needed for the current date\n",
    "    def is_cleaning_needed(self):\n",
    "        pass\n",
    "    \n",
    "    # get two different random persons\n",
    "    def assign_persons(self):\n",
    "        pass\n",
    "    \n",
    "    # get a random person from self.team\n",
    "    def get_random_person(self):\n",
    "        pass\n",
    "```"
   ]
  },
  {
   "cell_type": "markdown",
   "metadata": {
    "collapsed": true
   },
   "source": [
    "Working code for both examples can found in the code directory.\n",
    "- python 3_the_kitchen_shift_functions.py\n",
    "- python 3_the_kitchen_shift_class.py"
   ]
  },
  {
   "cell_type": "code",
   "execution_count": null,
   "metadata": {
    "collapsed": true
   },
   "outputs": [],
   "source": []
  }
 ],
 "metadata": {
  "kernelspec": {
   "display_name": "Python 3",
   "language": "python",
   "name": "python3"
  },
  "language_info": {
   "codemirror_mode": {
    "name": "ipython",
    "version": 3
   },
   "file_extension": ".py",
   "mimetype": "text/x-python",
   "name": "python",
   "nbconvert_exporter": "python",
   "pygments_lexer": "ipython3",
   "version": "3.6.0"
  }
 },
 "nbformat": 4,
 "nbformat_minor": 2
}
