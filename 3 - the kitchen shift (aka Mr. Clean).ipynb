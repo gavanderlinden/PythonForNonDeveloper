{
 "cells": [
  {
   "cell_type": "markdown",
   "metadata": {},
   "source": [
    "![alt text](data/images/mr_clean.jpg \"Title\")\n",
    "\n",
    "#### Project\n",
    "\n",
    "We are going to make a simple kitchen duty scheduler. First we are going to define the components of this project\n",
    "\n",
    "#### Components\n",
    "- define the cleaning crew\n",
    "- time period for the schedule\n",
    "- check if for a date if someone needs to clean\n",
    "- assign people to days"
   ]
  },
  {
   "cell_type": "code",
   "execution_count": 18,
   "metadata": {
    "collapsed": true
   },
   "outputs": [],
   "source": [
    "# we just define a list with names\n",
    "ONLINE_MARKETING_TEAM = [\n",
    "    \"Max Wölfle\",\n",
    "    \"Tony van der Linden\",\n",
    "    \"Christian Schulz\",\n",
    "    \"Tobias Esser\",\n",
    "    \"Fabian Reißmüller\",\n",
    "    \"Yvonne Kohnle\",\n",
    "    \"Johannes Burkhardt\",\n",
    "    \"Nicolas Mutter\",\n",
    "    \"Martin Kase\",\n",
    "    \"Sascia Burri\",\n",
    "    \"Patricia Tchorzewski\"\n",
    "]"
   ]
  },
  {
   "cell_type": "code",
   "execution_count": 43,
   "metadata": {
    "collapsed": false
   },
   "outputs": [],
   "source": [
    "# when working with dates and/or times often you will use the datetime module\n",
    "import datetime\n",
    "\n",
    "# We create a datetime object starting at the 1st of April 2017\n",
    "start_date = datetime.datetime(2017, 4, 1)\n",
    "\n",
    "# We create a datetime object starting at the 1st of May 2017\n",
    "end_date = datetime.datetime(2017, 5, 1)\n",
    "\n",
    "# we create a time delta of 1 day, a time delta is a unit of time\n",
    "day = datetime.timedelta(days=1)"
   ]
  },
  {
   "cell_type": "code",
   "execution_count": 44,
   "metadata": {
    "collapsed": true
   },
   "outputs": [],
   "source": [
    "def is_cleaning_needed(date):\n",
    "\n",
    "    # isoweekday: 1 is Monday, 6 is Saturday and 7 is Sunday\n",
    "    if date.isoweekday() in (6, 7):\n",
    "        return False\n",
    "    \n",
    "    # 14th of April is Good Friday\n",
    "    if date == datetime.datetime(2017, 4, 14):\n",
    "        return False\n",
    "\n",
    "    # 17th of April is Easter Monday\n",
    "    if date == datetime.datetime(2017, 4, 17):\n",
    "        return False\n",
    "    \n",
    "    return True"
   ]
  },
  {
   "cell_type": "code",
   "execution_count": 45,
   "metadata": {
    "collapsed": false
   },
   "outputs": [
    {
     "name": "stdout",
     "output_type": "stream",
     "text": [
      "2017-04-01 00:00:00 False\n",
      "2017-04-02 00:00:00 False\n",
      "2017-04-03 00:00:00 True\n",
      "2017-04-04 00:00:00 True\n",
      "2017-04-05 00:00:00 True\n",
      "2017-04-06 00:00:00 True\n",
      "2017-04-07 00:00:00 True\n",
      "2017-04-08 00:00:00 False\n",
      "2017-04-09 00:00:00 False\n",
      "2017-04-10 00:00:00 True\n",
      "2017-04-11 00:00:00 True\n",
      "2017-04-12 00:00:00 True\n",
      "2017-04-13 00:00:00 True\n",
      "2017-04-14 00:00:00 False\n",
      "2017-04-15 00:00:00 False\n",
      "2017-04-16 00:00:00 False\n",
      "2017-04-17 00:00:00 False\n",
      "2017-04-18 00:00:00 True\n",
      "2017-04-19 00:00:00 True\n",
      "2017-04-20 00:00:00 True\n",
      "2017-04-21 00:00:00 True\n",
      "2017-04-22 00:00:00 False\n",
      "2017-04-23 00:00:00 False\n",
      "2017-04-24 00:00:00 True\n",
      "2017-04-25 00:00:00 True\n",
      "2017-04-26 00:00:00 True\n",
      "2017-04-27 00:00:00 True\n",
      "2017-04-28 00:00:00 True\n",
      "2017-04-29 00:00:00 False\n",
      "2017-04-30 00:00:00 False\n"
     ]
    }
   ],
   "source": [
    "date = start_date\n",
    "while date < end_date:\n",
    "    \n",
    "    # evaluate if we need to clean\n",
    "    cleaning_needed = is_cleaning_needed(date)\n",
    "    \n",
    "    # display date and decision\n",
    "    print(date, need_to_clean(date))\n",
    "    \n",
    "    # we need to add a day to date because else we keep evaluating the same date indefinitely (infinite loop)\n",
    "    date = date + day"
   ]
  },
  {
   "cell_type": "code",
   "execution_count": 56,
   "metadata": {
    "collapsed": true
   },
   "outputs": [],
   "source": [
    "# if we want to randomize something we use the random module\n",
    "import random\n",
    "def assign_person():\n",
    "    random_person = random.choice(ONLINE_MARKETING_TEAM)\n",
    "\n",
    "    return random_person"
   ]
  },
  {
   "cell_type": "code",
   "execution_count": 60,
   "metadata": {
    "collapsed": false
   },
   "outputs": [
    {
     "name": "stdout",
     "output_type": "stream",
     "text": [
      "2017-04-01 00:00:00 False \n",
      "2017-04-02 00:00:00 False \n",
      "2017-04-03 00:00:00 True Fabian Reißmüller\n",
      "2017-04-04 00:00:00 True Tony van der Linden\n",
      "2017-04-05 00:00:00 True Patricia Tchorzewski\n",
      "2017-04-06 00:00:00 True Sascia Burri\n",
      "2017-04-07 00:00:00 True Fabian Reißmüller\n",
      "2017-04-08 00:00:00 False \n",
      "2017-04-09 00:00:00 False \n",
      "2017-04-10 00:00:00 True Max Wölfle\n",
      "2017-04-11 00:00:00 True Patricia Tchorzewski\n",
      "2017-04-12 00:00:00 True Christian Schulz\n",
      "2017-04-13 00:00:00 True Tony van der Linden\n",
      "2017-04-14 00:00:00 False \n",
      "2017-04-15 00:00:00 False \n",
      "2017-04-16 00:00:00 False \n",
      "2017-04-17 00:00:00 False \n",
      "2017-04-18 00:00:00 True Nicolas Mutter\n",
      "2017-04-19 00:00:00 True Fabian Reißmüller\n",
      "2017-04-20 00:00:00 True Christian Schulz\n",
      "2017-04-21 00:00:00 True Johannes Burkhardt\n",
      "2017-04-22 00:00:00 False \n",
      "2017-04-23 00:00:00 False \n",
      "2017-04-24 00:00:00 True Max Wölfle\n",
      "2017-04-25 00:00:00 True Max Wölfle\n",
      "2017-04-26 00:00:00 True Yvonne Kohnle\n",
      "2017-04-27 00:00:00 True Patricia Tchorzewski\n",
      "2017-04-28 00:00:00 True Tony van der Linden\n",
      "2017-04-29 00:00:00 False \n",
      "2017-04-30 00:00:00 False \n"
     ]
    }
   ],
   "source": [
    "date = start_date\n",
    "while date < end_date:\n",
    "    \n",
    "    # evaluate if we need to clean\n",
    "    cleaning_needed = is_cleaning_needed(date)\n",
    "    \n",
    "    # if cleaning is needed, assign a person\n",
    "    if cleaning_needed:\n",
    "        random_person = assign_person()\n",
    "    else:\n",
    "        random_person = \"\"\n",
    "    \n",
    "    # display date and decision and responsible person\n",
    "    print(date, need_to_clean(date), random_person)\n",
    "    \n",
    "    # we need to add a day to date because else we keep evaluating the same date indefinitely (infinite loop)\n",
    "    date = date + day"
   ]
  },
  {
   "cell_type": "code",
   "execution_count": 61,
   "metadata": {
    "collapsed": true
   },
   "outputs": [],
   "source": [
    "# we can also assign two people\n",
    "def assign_persons():\n",
    "    random_persons = random.choices(ONLINE_MARKETING_TEAM, k=2)\n",
    "\n",
    "    return random_persons"
   ]
  },
  {
   "cell_type": "code",
   "execution_count": 63,
   "metadata": {
    "collapsed": false
   },
   "outputs": [
    {
     "name": "stdout",
     "output_type": "stream",
     "text": [
      "2017-04-01 00:00:00 False \n",
      "2017-04-02 00:00:00 False \n",
      "2017-04-03 00:00:00 True ['Tony van der Linden', 'Tobias Esser']\n",
      "2017-04-04 00:00:00 True ['Patricia Tchorzewski', 'Martin Kase']\n",
      "2017-04-05 00:00:00 True ['Sascia Burri', 'Fabian Reißmüller']\n",
      "2017-04-06 00:00:00 True ['Johannes Burkhardt', 'Johannes Burkhardt']\n",
      "2017-04-07 00:00:00 True ['Max Wölfle', 'Sascia Burri']\n",
      "2017-04-08 00:00:00 False \n",
      "2017-04-09 00:00:00 False \n",
      "2017-04-10 00:00:00 True ['Fabian Reißmüller', 'Martin Kase']\n",
      "2017-04-11 00:00:00 True ['Martin Kase', 'Johannes Burkhardt']\n",
      "2017-04-12 00:00:00 True ['Sascia Burri', 'Nicolas Mutter']\n",
      "2017-04-13 00:00:00 True ['Christian Schulz', 'Martin Kase']\n",
      "2017-04-14 00:00:00 False \n",
      "2017-04-15 00:00:00 False \n",
      "2017-04-16 00:00:00 False \n",
      "2017-04-17 00:00:00 False \n",
      "2017-04-18 00:00:00 True ['Tobias Esser', 'Max Wölfle']\n",
      "2017-04-19 00:00:00 True ['Patricia Tchorzewski', 'Fabian Reißmüller']\n",
      "2017-04-20 00:00:00 True ['Tobias Esser', 'Tobias Esser']\n",
      "2017-04-21 00:00:00 True ['Max Wölfle', 'Tony van der Linden']\n",
      "2017-04-22 00:00:00 False \n",
      "2017-04-23 00:00:00 False \n",
      "2017-04-24 00:00:00 True ['Martin Kase', 'Martin Kase']\n",
      "2017-04-25 00:00:00 True ['Tobias Esser', 'Tobias Esser']\n",
      "2017-04-26 00:00:00 True ['Fabian Reißmüller', 'Nicolas Mutter']\n",
      "2017-04-27 00:00:00 True ['Yvonne Kohnle', 'Tobias Esser']\n",
      "2017-04-28 00:00:00 True ['Fabian Reißmüller', 'Sascia Burri']\n",
      "2017-04-29 00:00:00 False \n",
      "2017-04-30 00:00:00 False \n"
     ]
    }
   ],
   "source": [
    "date = start_date\n",
    "while date < end_date:\n",
    "    \n",
    "    # evaluate if we need to clean\n",
    "    cleaning_needed = is_cleaning_needed(date)\n",
    "    \n",
    "    # if cleaning is needed, assign a person\n",
    "    if cleaning_needed:\n",
    "        random_persons = assign_persons()\n",
    "    else:\n",
    "        random_persons = \"\"\n",
    "    \n",
    "    # display date and decision and responsible person\n",
    "    print(date, need_to_clean(date), random_persons)\n",
    "    \n",
    "    # we need to add a day to date because else we keep evaluating the same date indefinitely (infinite loop)\n",
    "    date = date + day"
   ]
  },
  {
   "cell_type": "code",
   "execution_count": 75,
   "metadata": {
    "collapsed": true
   },
   "outputs": [],
   "source": [
    "# we can also assign weights so some people have to clean more often\n",
    "def assign_persons():\n",
    "    \n",
    "    weights = [1000, 1, 1, 1, 1, 1, 1, 1, 1, 1, 1]\n",
    "\n",
    "    random_persons = random.choices(ONLINE_MARKETING_TEAM, weights=weights, k=2)\n",
    "\n",
    "    return random_persons"
   ]
  },
  {
   "cell_type": "code",
   "execution_count": 82,
   "metadata": {
    "collapsed": false
   },
   "outputs": [
    {
     "name": "stdout",
     "output_type": "stream",
     "text": [
      "2017-04-01 00:00:00 False \n",
      "2017-04-02 00:00:00 False \n",
      "2017-04-03 00:00:00 True ['Max Wölfle', 'Max Wölfle']\n",
      "2017-04-04 00:00:00 True ['Max Wölfle', 'Max Wölfle']\n",
      "2017-04-05 00:00:00 True ['Max Wölfle', 'Max Wölfle']\n",
      "2017-04-06 00:00:00 True ['Max Wölfle', 'Max Wölfle']\n",
      "2017-04-07 00:00:00 True ['Max Wölfle', 'Max Wölfle']\n",
      "2017-04-08 00:00:00 False \n",
      "2017-04-09 00:00:00 False \n",
      "2017-04-10 00:00:00 True ['Max Wölfle', 'Max Wölfle']\n",
      "2017-04-11 00:00:00 True ['Max Wölfle', 'Max Wölfle']\n",
      "2017-04-12 00:00:00 True ['Max Wölfle', 'Max Wölfle']\n",
      "2017-04-13 00:00:00 True ['Max Wölfle', 'Max Wölfle']\n",
      "2017-04-14 00:00:00 False \n",
      "2017-04-15 00:00:00 False \n",
      "2017-04-16 00:00:00 False \n",
      "2017-04-17 00:00:00 False \n",
      "2017-04-18 00:00:00 True ['Max Wölfle', 'Max Wölfle']\n",
      "2017-04-19 00:00:00 True ['Max Wölfle', 'Max Wölfle']\n",
      "2017-04-20 00:00:00 True ['Max Wölfle', 'Max Wölfle']\n",
      "2017-04-21 00:00:00 True ['Max Wölfle', 'Max Wölfle']\n",
      "2017-04-22 00:00:00 False \n",
      "2017-04-23 00:00:00 False \n",
      "2017-04-24 00:00:00 True ['Max Wölfle', 'Max Wölfle']\n",
      "2017-04-25 00:00:00 True ['Max Wölfle', 'Max Wölfle']\n",
      "2017-04-26 00:00:00 True ['Max Wölfle', 'Max Wölfle']\n",
      "2017-04-27 00:00:00 True ['Max Wölfle', 'Max Wölfle']\n",
      "2017-04-28 00:00:00 True ['Max Wölfle', 'Max Wölfle']\n",
      "2017-04-29 00:00:00 False \n",
      "2017-04-30 00:00:00 False \n"
     ]
    }
   ],
   "source": [
    "date = start_date\n",
    "while date < end_date:\n",
    "    \n",
    "    # evaluate if we need to clean\n",
    "    cleaning_needed = is_cleaning_needed(date)\n",
    "    \n",
    "    # if cleaning is needed, assign a person\n",
    "    if cleaning_needed:\n",
    "        random_persons = assign_persons()\n",
    "    else:\n",
    "        random_persons = \"\"\n",
    "    \n",
    "    # display date and decision and responsible person\n",
    "    print(date, need_to_clean(date), random_persons)\n",
    "    \n",
    "    # we need to add a day to date because else we keep evaluating the same date indefinitely (infinite loop)\n",
    "    date = date + day"
   ]
  },
  {
   "cell_type": "code",
   "execution_count": 93,
   "metadata": {
    "collapsed": false
   },
   "outputs": [],
   "source": [
    "# make sure we always assign two different people\n",
    "def assign_persons():\n",
    "    \n",
    "    weights = [1000, 1, 1, 1, 1, 1, 1, 1, 1, 1, 1]\n",
    "    \n",
    "    # we will loop until we get two different people\n",
    "    while True:\n",
    "        random_person_one, random_person_two = random.choices(ONLINE_MARKETING_TEAM, weights=weights, k=2)\n",
    "        if random_person_one != random_person_two:\n",
    "            return (random_person_one, random_person_two)"
   ]
  },
  {
   "cell_type": "code",
   "execution_count": 94,
   "metadata": {
    "collapsed": false
   },
   "outputs": [
    {
     "name": "stdout",
     "output_type": "stream",
     "text": [
      "2017-04-01 00:00:00 False \n",
      "2017-04-02 00:00:00 False \n",
      "2017-04-03 00:00:00 True ('Max Wölfle', 'Nicolas Mutter')\n",
      "2017-04-04 00:00:00 True ('Max Wölfle', 'Tobias Esser')\n",
      "2017-04-05 00:00:00 True ('Fabian Reißmüller', 'Max Wölfle')\n",
      "2017-04-06 00:00:00 True ('Tony van der Linden', 'Max Wölfle')\n",
      "2017-04-07 00:00:00 True ('Max Wölfle', 'Fabian Reißmüller')\n",
      "2017-04-08 00:00:00 False \n",
      "2017-04-09 00:00:00 False \n",
      "2017-04-10 00:00:00 True ('Nicolas Mutter', 'Max Wölfle')\n",
      "2017-04-11 00:00:00 True ('Max Wölfle', 'Fabian Reißmüller')\n",
      "2017-04-12 00:00:00 True ('Max Wölfle', 'Patricia Tchorzewski')\n",
      "2017-04-13 00:00:00 True ('Max Wölfle', 'Nicolas Mutter')\n",
      "2017-04-14 00:00:00 False \n",
      "2017-04-15 00:00:00 False \n",
      "2017-04-16 00:00:00 False \n",
      "2017-04-17 00:00:00 False \n",
      "2017-04-18 00:00:00 True ('Max Wölfle', 'Yvonne Kohnle')\n",
      "2017-04-19 00:00:00 True ('Yvonne Kohnle', 'Max Wölfle')\n",
      "2017-04-20 00:00:00 True ('Tony van der Linden', 'Max Wölfle')\n",
      "2017-04-21 00:00:00 True ('Martin Kase', 'Max Wölfle')\n",
      "2017-04-22 00:00:00 False \n",
      "2017-04-23 00:00:00 False \n",
      "2017-04-24 00:00:00 True ('Sascia Burri', 'Max Wölfle')\n",
      "2017-04-25 00:00:00 True ('Max Wölfle', 'Patricia Tchorzewski')\n",
      "2017-04-26 00:00:00 True ('Max Wölfle', 'Patricia Tchorzewski')\n",
      "2017-04-27 00:00:00 True ('Yvonne Kohnle', 'Max Wölfle')\n",
      "2017-04-28 00:00:00 True ('Patricia Tchorzewski', 'Max Wölfle')\n",
      "2017-04-29 00:00:00 False \n",
      "2017-04-30 00:00:00 False \n"
     ]
    }
   ],
   "source": [
    "date = start_date\n",
    "while date < end_date:\n",
    "    \n",
    "    # evaluate if we need to clean\n",
    "    cleaning_needed = is_cleaning_needed(date)\n",
    "    \n",
    "    # if cleaning is needed, assign a person\n",
    "    if cleaning_needed:\n",
    "        random_persons = assign_persons()\n",
    "    else:\n",
    "        random_persons = \"\"\n",
    "    \n",
    "    # display date and decision and responsible person\n",
    "    print(date, need_to_clean(date), random_persons)\n",
    "    \n",
    "    # we need to add a day to date because else we keep evaluating the same date indefinitely (infinite loop)\n",
    "    date = date + day"
   ]
  },
  {
   "cell_type": "markdown",
   "metadata": {},
   "source": [
    "it still seems if some people have to clean more often than others...\n",
    "\n",
    "One thing we could do is keep track of the weights and increase the weight when someone hasn't done kitchen duty. When someone does kitchen duty we set the weight back to 1"
   ]
  },
  {
   "cell_type": "code",
   "execution_count": 100,
   "metadata": {
    "collapsed": false
   },
   "outputs": [
    {
     "data": {
      "text/plain": [
       "{'Christian Schulz': 1,\n",
       " 'Fabian Reißmüller': 1,\n",
       " 'Johannes Burkhardt': 1,\n",
       " 'Martin Kase': 1,\n",
       " 'Max Wölfle': 1,\n",
       " 'Nicolas Mutter': 1,\n",
       " 'Patricia Tchorzewski': 1,\n",
       " 'Sascia Burri': 1,\n",
       " 'Tobias Esser': 1,\n",
       " 'Tony van der Linden': 1,\n",
       " 'Yvonne Kohnle': 1}"
      ]
     },
     "execution_count": 100,
     "metadata": {},
     "output_type": "execute_result"
    }
   ],
   "source": [
    "# let's combine the weights in a dictionary:\n",
    "team_members_and_weights = {member: 1 for member in ONLINE_MARKETING_TEAM}\n",
    "team_members_and_weights"
   ]
  },
  {
   "cell_type": "code",
   "execution_count": 102,
   "metadata": {
    "collapsed": false
   },
   "outputs": [
    {
     "data": {
      "text/plain": [
       "dict_values([1, 1, 1, 1, 1, 1, 1, 1, 1, 1, 1])"
      ]
     },
     "execution_count": 102,
     "metadata": {},
     "output_type": "execute_result"
    }
   ],
   "source": [
    "team_members_and_weights.values()"
   ]
  },
  {
   "cell_type": "code",
   "execution_count": 107,
   "metadata": {
    "collapsed": false
   },
   "outputs": [
    {
     "data": {
      "text/plain": [
       "[('Max Wölfle',\n",
       "  'Tony van der Linden',\n",
       "  'Christian Schulz',\n",
       "  'Tobias Esser',\n",
       "  'Fabian Reißmüller',\n",
       "  'Yvonne Kohnle',\n",
       "  'Johannes Burkhardt',\n",
       "  'Nicolas Mutter',\n",
       "  'Martin Kase',\n",
       "  'Sascia Burri',\n",
       "  'Patricia Tchorzewski'),\n",
       " (1, 1, 1, 1, 1, 1, 1, 1, 1, 1, 1)]"
      ]
     },
     "execution_count": 107,
     "metadata": {},
     "output_type": "execute_result"
    }
   ],
   "source": [
    "list(zip(*team_members_and_weights.items()))"
   ]
  },
  {
   "cell_type": "code",
   "execution_count": 101,
   "metadata": {
    "collapsed": true
   },
   "outputs": [],
   "source": [
    "# make sure we always assign two different people\n",
    "def assign_persons(weights):\n",
    "    \n",
    "    # we will loop until we get two different people\n",
    "    while True:\n",
    "        random_person_one, random_person_two = random.choices(ONLINE_MARKETING_TEAM, weights=weights, k=2)\n",
    "        if random_person_one != random_person_two:\n",
    "            return (random_person_one, random_person_two)"
   ]
  },
  {
   "cell_type": "code",
   "execution_count": null,
   "metadata": {
    "collapsed": true
   },
   "outputs": [],
   "source": [
    "date = start_date\n",
    "while date < end_date:\n",
    "    \n",
    "    # evaluate if we need to clean\n",
    "    cleaning_needed = is_cleaning_needed(date)\n",
    "    \n",
    "    # if cleaning is needed, assign a person\n",
    "    if cleaning_needed:\n",
    "        random_persons = assign_persons()  # now we pass the weights\n",
    "    else:\n",
    "        random_persons = \"\"\n",
    "    \n",
    "    # display date and decision and responsible person\n",
    "    print(date, need_to_clean(date), random_persons)\n",
    "    \n",
    "    # we need to add a day to date because else we keep evaluating the same date indefinitely (infinite loop)\n",
    "    date = date + day"
   ]
  }
 ],
 "metadata": {
  "kernelspec": {
   "display_name": "Python 3",
   "language": "python",
   "name": "python3"
  },
  "language_info": {
   "codemirror_mode": {
    "name": "ipython",
    "version": 3
   },
   "file_extension": ".py",
   "mimetype": "text/x-python",
   "name": "python",
   "nbconvert_exporter": "python",
   "pygments_lexer": "ipython3",
   "version": "3.6.0"
  }
 },
 "nbformat": 4,
 "nbformat_minor": 2
}
