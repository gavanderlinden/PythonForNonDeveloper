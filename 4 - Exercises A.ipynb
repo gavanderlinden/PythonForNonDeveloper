{
 "cells": [
  {
   "cell_type": "code",
   "execution_count": null,
   "metadata": {
    "collapsed": false
   },
   "outputs": [],
   "source": [
    "import os\n",
    "import json\n",
    "import sys\n",
    "sys.path.append(os.getcwd() + \"/lib\")\n",
    "from utility import check_answer"
   ]
  },
  {
   "cell_type": "code",
   "execution_count": null,
   "metadata": {
    "collapsed": true
   },
   "outputs": [],
   "source": [
    "answers = json.load(open(\"data/answers_a.json\"))"
   ]
  },
  {
   "cell_type": "markdown",
   "metadata": {},
   "source": [
    "#### Exercise 1\n",
    "\n",
    "Declare these variables\n",
    "\n",
    "- name (str)\n",
    "- age (int), \n",
    "- colors (list, three basic colors)"
   ]
  },
  {
   "cell_type": "code",
   "execution_count": null,
   "metadata": {
    "collapsed": false
   },
   "outputs": [],
   "source": [
    "# put your code here\n",
    "\n",
    "# leave this to check your code\n",
    "check_answer(globals(), answers[\"q1\"])"
   ]
  },
  {
   "cell_type": "markdown",
   "metadata": {
    "collapsed": false
   },
   "source": [
    "#### Exercise 2\n",
    "\n",
    "manipulate the previous declared values\n",
    "\n",
    "- capitalize your name; __assign to name2__\n",
    "- double your age; __assign to age2__\n",
    "- add the silver to your list of colors;"
   ]
  },
  {
   "cell_type": "code",
   "execution_count": null,
   "metadata": {
    "collapsed": false
   },
   "outputs": [],
   "source": [
    "# put your code here\n",
    "\n",
    "# leave this to check your code\n",
    "check_answer(globals(), answers[\"q2\"])"
   ]
  },
  {
   "cell_type": "markdown",
   "metadata": {},
   "source": [
    "#### Exercise 3\n",
    "\n",
    "Uppercase 'name' and combine it with 'age2' and the second last color of your 'colors' list and assign them to user_name"
   ]
  },
  {
   "cell_type": "code",
   "execution_count": null,
   "metadata": {
    "collapsed": false
   },
   "outputs": [],
   "source": [
    "# put your code here\n",
    "\n",
    "# leave this to check your code\n",
    "check_answer(globals(), answers[\"q3\"])"
   ]
  },
  {
   "cell_type": "markdown",
   "metadata": {},
   "source": [
    "#### Exercise 4\n",
    "\n",
    "For the variable 'text' do the following:\n",
    "- count the number of times the word 'und' is used and assign to 'n_und'\n",
    "- split the text into sentences (a line break is \"\\n\") and assign to 'sentences'\n",
    "- count the number of sentences and assign to 'n_sentences'\n",
    "- use a for loop to identify the sentence that contains 'Wellness' and assign to 'text_wellness'"
   ]
  },
  {
   "cell_type": "code",
   "execution_count": null,
   "metadata": {
    "collapsed": false
   },
   "outputs": [],
   "source": [
    "text = \"\"\"Sport, Unterhaltung und Pool im Hotel\n",
    "Eine fast unendliche Auswahl an Sport- und Freizeitmöglichkeiten erwartet Sie im Dana Beach Resort.\n",
    "Schwimmen, Tauchen und Surfen gehören zu den beliebtesten Wassersportarten und natürlich auch Entspannen und Sonnengenuß am privaten Sandstrand oder an einem der großen Swimmingpools.\n",
    "Daneben gibt es Reiten, Kamelreiten, Handball, Basketball, Volleyball, Tennis, Minigolf, Tretbootfahren, Aerobic, Wassergymnastik, Wasserball, Billard, Boccia und Dart.\n",
    "Sie können auch das große Wellness-Angebot nutzen: Sauna, Dampfbad, Whirlpool oder eine Massage.\n",
    "Zusätzlich bietet der Fitness Club im Dana Beach Resort alles, was Sie brauchen, um sich fit zu halten.\n",
    "Eine große Auswahl an Bars und Live-Unterhaltung im Dana Beach Resort sorgen dafür, daß Sie auch die Nacht zum Tage machen können.\n",
    "Auch für die kleinen Gäste ist gesorgt, denn die speziell konzipierten Einrichtungen wie ein Spielplatz, ein Kinder-Schwimmbecken und der Kids Club sorgen dafür, daß die Kinder ihren Spass haben.\n",
    "Auch ein Babysitter kann auf Anfrage und gegen Gebühr zur Verfügung gestellt werden.\"\"\"\n",
    "\n",
    "# put your code here\n",
    "\n",
    "# leave this to check your code\n",
    "check_answer(globals(), answers[\"q4\"])"
   ]
  },
  {
   "cell_type": "code",
   "execution_count": null,
   "metadata": {
    "collapsed": true
   },
   "outputs": [],
   "source": []
  }
 ],
 "metadata": {
  "kernelspec": {
   "display_name": "Python 3",
   "language": "python",
   "name": "python3"
  },
  "language_info": {
   "codemirror_mode": {
    "name": "ipython",
    "version": 3
   },
   "file_extension": ".py",
   "mimetype": "text/x-python",
   "name": "python",
   "nbconvert_exporter": "python",
   "pygments_lexer": "ipython3",
   "version": "3.6.0"
  }
 },
 "nbformat": 4,
 "nbformat_minor": 2
}
